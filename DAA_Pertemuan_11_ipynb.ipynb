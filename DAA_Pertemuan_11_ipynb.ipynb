{
  "nbformat": 4,
  "nbformat_minor": 0,
  "metadata": {
    "colab": {
      "provenance": [],
      "authorship_tag": "ABX9TyNzBp2MhOwQfRvLi6H2dydw",
      "include_colab_link": true
    },
    "kernelspec": {
      "name": "python3",
      "display_name": "Python 3"
    },
    "language_info": {
      "name": "python"
    }
  },
  "cells": [
    {
      "cell_type": "markdown",
      "metadata": {
        "id": "view-in-github",
        "colab_type": "text"
      },
      "source": [
        "<a href=\"https://colab.research.google.com/github/Ziroint/Desain-AnalisisAlgoritma/blob/main/DAA_Pertemuan_11_ipynb.ipynb\" target=\"_parent\"><img src=\"https://colab.research.google.com/assets/colab-badge.svg\" alt=\"Open In Colab\"/></a>"
      ]
    },
    {
      "cell_type": "code",
      "execution_count": 1,
      "metadata": {
        "id": "rPszpPju03Zf"
      },
      "outputs": [],
      "source": [
        "#a------b\n",
        "#|      |\n",
        "#|      |\n",
        "#c------d------e"
      ]
    },
    {
      "cell_type": "code",
      "source": [
        "#create the dictionary with graph elements\n",
        "graph = {\"a\":[\"b\",\"c\"],\n",
        "         \"b\":[\"a\",\"d\"],\n",
        "         \"c\":[\"a\",\"d\"],\n",
        "         \"d\":[\"e\"],\n",
        "         \"e\":[\"d\"]\n",
        "         }\n",
        "\n",
        "#print the graph \n",
        "print(graph)"
      ],
      "metadata": {
        "colab": {
          "base_uri": "https://localhost:8080/"
        },
        "id": "b3mzaSSw1GEm",
        "outputId": "3433e07a-e3e1-4486-91d0-8081cfc78352"
      },
      "execution_count": 2,
      "outputs": [
        {
          "output_type": "stream",
          "name": "stdout",
          "text": [
            "{'a': ['b', 'c'], 'b': ['a', 'd'], 'c': ['a', 'd'], 'd': ['e'], 'e': ['d']}\n"
          ]
        }
      ]
    },
    {
      "cell_type": "code",
      "source": [
        "#Latihan 1\n",
        "#T-----U-----V\n",
        "#|           |\n",
        "#W-----------X\n",
        "#|           |\n",
        "#Z           S"
      ],
      "metadata": {
        "id": "iD9gEH1D1jCg"
      },
      "execution_count": 3,
      "outputs": []
    },
    {
      "cell_type": "code",
      "source": [
        "#Latihan 1\n",
        "lat1 = {\"T\":[\"U\",\"W\"],\n",
        "        \"U\":[\"T\",\"V\"],\n",
        "        \"V\":[\"U\",\"X\"],\n",
        "        \"W\":[\"T\",\"X\",\"Z\"],\n",
        "        \"X\":[\"V\",\"W\",\"S\"],\n",
        "        \"Z\":[\"W\"],\n",
        "        \"S\":[\"X\"]\n",
        "        }\n",
        "\n",
        "print(lat1)"
      ],
      "metadata": {
        "colab": {
          "base_uri": "https://localhost:8080/"
        },
        "id": "ukmIz0hw2RZ6",
        "outputId": "18a936ac-bbe3-4585-8f9c-69a455a12a92"
      },
      "execution_count": 12,
      "outputs": [
        {
          "output_type": "stream",
          "name": "stdout",
          "text": [
            "{'T': ['U', 'W'], 'U': ['T', 'V'], 'V': ['U', 'X'], 'W': ['T', 'X', 'Z'], 'X': ['V', 'W', 'S'], 'Z': ['W'], 'S': ['X']}\n"
          ]
        }
      ]
    },
    {
      "cell_type": "code",
      "source": [
        "#Latihan 2\n",
        "lat2 = {\"R\":[\"O\",\"L\"],\n",
        "        \"O\":[\"P\",\"R\",\"M\"],\n",
        "        \"M\":[\"O\",\"N\"],\n",
        "        \"L\":[\"R\",\"P\"],\n",
        "        \"P\":[\"O\",\"L\",\"N\"],\n",
        "        \"N\":[\"P\",\"M\"]\n",
        "        }\n",
        "\n",
        "print(lat2)"
      ],
      "metadata": {
        "colab": {
          "base_uri": "https://localhost:8080/"
        },
        "id": "fAMtraMm24G4",
        "outputId": "bcdaf0b9-b994-4b4d-d54a-70ff7dfee10a"
      },
      "execution_count": 13,
      "outputs": [
        {
          "output_type": "stream",
          "name": "stdout",
          "text": [
            "{'R': ['O', 'L'], 'O': ['P', 'R', 'M'], 'M': ['O', 'N'], 'L': ['R', 'P'], 'P': ['O', 'L', 'N'], 'N': ['P', 'M']}\n"
          ]
        }
      ]
    },
    {
      "cell_type": "code",
      "source": [
        "# mengambil vertex\n",
        "class graph:\n",
        "  def __init__(self,gdict=None):\n",
        "    if gdict is None:\n",
        "      gdict = []\n",
        "    self.gdict = gdict\n",
        "\n",
        "#get the keys of the dictionary\n",
        "  def getVertices(self):\n",
        "    return list(self.gdict.keys())\n",
        "\n",
        "#create the dictionary with graph elements\n",
        "graph_elements = {\"a\":[\"b\",\"c\"],\n",
        "                  \"b\":[\"a\",\"d\"],\n",
        "                  \"c\":[\"a\",\"d\"],\n",
        "                  \"d\":[\"e\"],\n",
        "                  \"e\":[\"d\"]\n",
        "                  }\n",
        "  \n",
        "g = graph(graph_elements)\n",
        "\n",
        "print(g.getVertices())"
      ],
      "metadata": {
        "colab": {
          "base_uri": "https://localhost:8080/"
        },
        "id": "2ReDzmCX4Kxc",
        "outputId": "cd7dec7d-49a6-478d-8d09-b99776e58349"
      },
      "execution_count": 30,
      "outputs": [
        {
          "output_type": "stream",
          "name": "stdout",
          "text": [
            "['a', 'b', 'c', 'd', 'e']\n"
          ]
        }
      ]
    },
    {
      "cell_type": "code",
      "source": [
        "#Latihan 3\n",
        "#T-----U-----V\n",
        "#|           |\n",
        "#W-----------X\n",
        "#|           |\n",
        "#Z           S\n",
        "lat1_g = graph(lat1)\n",
        "\n",
        "print(lat1_g.getVertices())"
      ],
      "metadata": {
        "colab": {
          "base_uri": "https://localhost:8080/"
        },
        "id": "VxD8OHyX5Eoe",
        "outputId": "133459bd-a389-42df-a999-bc0994a825ca"
      },
      "execution_count": 31,
      "outputs": [
        {
          "output_type": "stream",
          "name": "stdout",
          "text": [
            "['T', 'U', 'V', 'W', 'X', 'Z', 'S', 'a', 'b', 'C']\n"
          ]
        }
      ]
    },
    {
      "cell_type": "code",
      "source": [
        "#Latihan 4\n",
        "lat2_g = graph(lat2)\n",
        "\n",
        "print(lat2_g.getVertices())"
      ],
      "metadata": {
        "colab": {
          "base_uri": "https://localhost:8080/"
        },
        "id": "56hFnKYf5Sab",
        "outputId": "1526b900-5c82-4660-ba5c-90334fb6aa88"
      },
      "execution_count": 32,
      "outputs": [
        {
          "output_type": "stream",
          "name": "stdout",
          "text": [
            "['R', 'O', 'M', 'L', 'P', 'N', 'b', 'C']\n"
          ]
        }
      ]
    },
    {
      "cell_type": "code",
      "source": [
        "#mengammbil edge\n",
        "class graph:\n",
        "  def __init__(self,gdict=None):\n",
        "    if gdict is None:\n",
        "      gdict = []\n",
        "    self.gdict = gdict\n",
        "  \n",
        "  def edges(self):\n",
        "    return self.findedges()\n",
        "  \n",
        "#Find the distinct list of edges\n",
        "  def findedges(self):\n",
        "    edgename = []\n",
        "    for vrtx in self.gdict:\n",
        "      for nxtvrtx in self.gdict[vrtx]:\n",
        "        if{nxtvrtx,vrtx} not in edgename:\n",
        "          edgename.append({vrtx,nxtvrtx})\n",
        "    return edgename\n",
        "\n",
        "#create the dictionary with graph elements\n",
        "graph_elements = {\"a\":[\"b\",\"c\"],\n",
        "                  \"b\":[\"a\",\"d\"],\n",
        "                  \"c\":[\"a\",\"d\"],\n",
        "                  \"d\":[\"e\"],\n",
        "                  \"e\":[\"d\"]\n",
        "                  }\n",
        "\n",
        "g2 = graph(graph_elements)\n",
        "print(g2.edges())"
      ],
      "metadata": {
        "colab": {
          "base_uri": "https://localhost:8080/"
        },
        "id": "aCUzzUVuEIYG",
        "outputId": "c8f5c765-5434-4fe0-a233-c6bca76e4d6f"
      },
      "execution_count": 33,
      "outputs": [
        {
          "output_type": "stream",
          "name": "stdout",
          "text": [
            "[{'b', 'a'}, {'c', 'a'}, {'b', 'd'}, {'d', 'c'}, {'e', 'd'}]\n"
          ]
        }
      ]
    },
    {
      "cell_type": "code",
      "source": [
        "#Latihan 5\n",
        "slat1 = graph(lat1)\n",
        "\n",
        "print(slat1.edges())"
      ],
      "metadata": {
        "colab": {
          "base_uri": "https://localhost:8080/"
        },
        "id": "g-9-orFJFyH-",
        "outputId": "4bb275b0-5b17-4b6b-b684-8d2f4db6dfdf"
      },
      "execution_count": 36,
      "outputs": [
        {
          "output_type": "stream",
          "name": "stdout",
          "text": [
            "[{'T', 'U'}, {'W', 'T'}, {'T', 'a'}, {'T', 'E'}, {'U', 'V'}, {'X', 'V'}, {'W', 'X'}, {'W', 'Z'}, {'X', 'S'}, {'b', 'V'}, {'C', 'V'}]\n"
          ]
        }
      ]
    },
    {
      "cell_type": "code",
      "source": [
        "#latihan 6\n",
        "slat2 = graph(lat2)\n",
        "\n",
        "print(slat2.edges())"
      ],
      "metadata": {
        "colab": {
          "base_uri": "https://localhost:8080/"
        },
        "id": "yoXWFIsGNEXt",
        "outputId": "58909e54-ef29-483e-ce43-cd1412ec5278"
      },
      "execution_count": 37,
      "outputs": [
        {
          "output_type": "stream",
          "name": "stdout",
          "text": [
            "[{'R', 'O'}, {'L', 'R'}, {'R', 'a'}, {'R', 'E'}, {'P', 'O'}, {'M', 'O'}, {'N', 'M'}, {'P', 'L'}, {'P', 'N'}, {'M', 'b'}, {'C', 'M'}]\n"
          ]
        }
      ]
    },
    {
      "cell_type": "code",
      "source": [
        "# menambahkan vertex\n",
        "class graph:\n",
        "  def __init__(self,gdict=None):\n",
        "    if gdict is None:\n",
        "      gdict = {}\n",
        "    self.gdict = gdict\n",
        "  \n",
        "  def getVertices(self):\n",
        "    return list(self.gdict.keys())\n",
        "\n",
        "# add the vertex as a key\n",
        "  def addVertex(self,vrtx):\n",
        "    if vrtx not in self.gdict:\n",
        "      self.gdict[vrtx] = []\n",
        "\n",
        "# Create the dictionary with graph elements\n",
        "graph_elements = {\"a\":[\"b\",\"c\"],\n",
        "                  \"b\":[\"a\",\"d\"],\n",
        "                  \"c\":[\"a\",\"d\"],\n",
        "                  \"d\":[\"e\"],\n",
        "                  \"e\":[\"d\"]\n",
        "                  }\n",
        "\n",
        "g = graph(graph_elements)\n",
        "\n",
        "g.addVertex(\"f\")\n",
        "\n",
        "print(g.getVertices())"
      ],
      "metadata": {
        "colab": {
          "base_uri": "https://localhost:8080/"
        },
        "id": "4I64r-6pNIzl",
        "outputId": "659d8bc5-83ca-4112-cebc-797f0a1219ff"
      },
      "execution_count": 38,
      "outputs": [
        {
          "output_type": "stream",
          "name": "stdout",
          "text": [
            "['a', 'b', 'c', 'd', 'e', 'f']\n"
          ]
        }
      ]
    },
    {
      "cell_type": "code",
      "source": [
        "#Latihan 7\n",
        "tlat1 = graph(lat1)\n",
        "tlat1.addVertex(\"a\")\n",
        "print(tlat1.getVertices())"
      ],
      "metadata": {
        "colab": {
          "base_uri": "https://localhost:8080/"
        },
        "id": "vA4Tqg7FN3g5",
        "outputId": "d34aae87-6a45-4e0c-a239-720edaa25470"
      },
      "execution_count": 39,
      "outputs": [
        {
          "output_type": "stream",
          "name": "stdout",
          "text": [
            "['T', 'U', 'V', 'W', 'X', 'Z', 'S', 'a', 'b', 'C']\n"
          ]
        }
      ]
    },
    {
      "cell_type": "code",
      "source": [
        "#latihan 8\n",
        "tlat2 = graph(lat2)\n",
        "tlat2.addVertex(\"b\")\n",
        "print(tlat2.getVertices())"
      ],
      "metadata": {
        "colab": {
          "base_uri": "https://localhost:8080/"
        },
        "id": "hXkqlc6QOCSg",
        "outputId": "56088555-0648-40d6-c4fc-8646486f8eee"
      },
      "execution_count": 40,
      "outputs": [
        {
          "output_type": "stream",
          "name": "stdout",
          "text": [
            "['R', 'O', 'M', 'L', 'P', 'N', 'b', 'C']\n"
          ]
        }
      ]
    },
    {
      "cell_type": "code",
      "source": [
        "# menambahkan edge\n",
        "class graph:\n",
        "  def __init__(self,gdict=None):\n",
        "    if gdict is None:\n",
        "      gdict = {}\n",
        "    self.gdict = gdict\n",
        "  \n",
        "  def edges(self):\n",
        "    return self.findedges()\n",
        "\n",
        "# add the new edge\n",
        "  def AddEdge(self,edge):\n",
        "    edge = set(edge)\n",
        "    (vrtx1, vrtx2) = tuple(edge)\n",
        "    if vrtx1 in self.gdict:\n",
        "      self.gdict[vrtx1].append(vrtx2)\n",
        "    else:\n",
        "      self.gdict[vrtx1] = [vrtx2]\n",
        "\n",
        "#List the edge names\n",
        "  def findedges(self):\n",
        "    edgename = []\n",
        "    for vrtx in self.gdict :\n",
        "      for nxtvrtx in self.gdict[vrtx]:\n",
        "        if{nxtvrtx, vrtx} not in edgename:\n",
        "          edgename.append({vrtx, nxtvrtx})\n",
        "    return edgename"
      ],
      "metadata": {
        "id": "XMQPNuDyONZL"
      },
      "execution_count": 41,
      "outputs": []
    },
    {
      "cell_type": "code",
      "source": [
        "#Create the dictionary with graph elements\n",
        "graph_elements = {\"a\":[\"b\",\"c\"],\n",
        "                  \"b\":[\"a\",\"d\"],\n",
        "                  \"c\":[\"a\",\"d\"],\n",
        "                  \"d\":[\"e\"],\n",
        "                  \"e\":[\"d\"]\n",
        "                  }\n",
        "\n",
        "g = graph(graph_elements)\n",
        "g.AddEdge({'a','e'})\n",
        "g.AddEdge({'a','c'})\n",
        "print(g.edges())"
      ],
      "metadata": {
        "colab": {
          "base_uri": "https://localhost:8080/"
        },
        "id": "zEtwNahOPF3_",
        "outputId": "ac681060-98c3-4a2f-9a5e-8bac6a5419d2"
      },
      "execution_count": 42,
      "outputs": [
        {
          "output_type": "stream",
          "name": "stdout",
          "text": [
            "[{'b', 'a'}, {'c', 'a'}, {'b', 'd'}, {'d', 'c'}, {'e', 'd'}, {'e', 'a'}]\n"
          ]
        }
      ]
    },
    {
      "cell_type": "code",
      "source": [
        "#latihan 9\n",
        "alat1 = graph(lat1)\n",
        "alat1.AddEdge({'T','E'})\n",
        "alat1.AddEdge({'U','A'})\n",
        "alat1.AddEdge({'V','C'})\n",
        "print(alat1.edges())"
      ],
      "metadata": {
        "colab": {
          "base_uri": "https://localhost:8080/"
        },
        "id": "58cJePlZPXEK",
        "outputId": "b4030a20-9a2e-48ba-dcd7-3421eb7e2721"
      },
      "execution_count": 43,
      "outputs": [
        {
          "output_type": "stream",
          "name": "stdout",
          "text": [
            "[{'T', 'U'}, {'W', 'T'}, {'T', 'a'}, {'T', 'E'}, {'U', 'V'}, {'X', 'V'}, {'W', 'X'}, {'W', 'Z'}, {'X', 'S'}, {'b', 'V'}, {'C', 'V'}, {'A', 'U'}]\n"
          ]
        }
      ]
    },
    {
      "cell_type": "code",
      "source": [
        "#latihan 10\n",
        "alat2 = graph(lat2)\n",
        "alat2.AddEdge({'R','E'})\n",
        "alat2.AddEdge({'O','B'})\n",
        "alat2.AddEdge({'M','C'})\n",
        "print(alat2.edges())"
      ],
      "metadata": {
        "colab": {
          "base_uri": "https://localhost:8080/"
        },
        "id": "MU-hBVl6Ppe9",
        "outputId": "e6c96c4e-326c-41f2-87b8-a9bda85523cb"
      },
      "execution_count": 44,
      "outputs": [
        {
          "output_type": "stream",
          "name": "stdout",
          "text": [
            "[{'R', 'O'}, {'L', 'R'}, {'R', 'a'}, {'R', 'E'}, {'P', 'O'}, {'M', 'O'}, {'N', 'M'}, {'P', 'L'}, {'P', 'N'}, {'M', 'b'}, {'C', 'M'}, {'O', 'B'}]\n"
          ]
        }
      ]
    },
    {
      "cell_type": "code",
      "source": [],
      "metadata": {
        "id": "4_tlXtetPygS"
      },
      "execution_count": null,
      "outputs": []
    }
  ]
}