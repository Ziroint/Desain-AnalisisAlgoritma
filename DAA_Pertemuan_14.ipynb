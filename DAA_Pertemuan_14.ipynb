{
  "nbformat": 4,
  "nbformat_minor": 0,
  "metadata": {
    "colab": {
      "provenance": [],
      "authorship_tag": "ABX9TyPsqpZUuGL0JG61IOHGAePJ",
      "include_colab_link": true
    },
    "kernelspec": {
      "name": "python3",
      "display_name": "Python 3"
    },
    "language_info": {
      "name": "python"
    }
  },
  "cells": [
    {
      "cell_type": "markdown",
      "metadata": {
        "id": "view-in-github",
        "colab_type": "text"
      },
      "source": [
        "<a href=\"https://colab.research.google.com/github/Ziroint/Desain-AnalisisAlgoritma/blob/main/DAA_Pertemuan_14.ipynb\" target=\"_parent\"><img src=\"https://colab.research.google.com/assets/colab-badge.svg\" alt=\"Open In Colab\"/></a>"
      ]
    },
    {
      "cell_type": "markdown",
      "source": [
        "**Studi Kasus Fraud Analytics**"
      ],
      "metadata": {
        "id": "6x4srhPD7_Na"
      }
    },
    {
      "cell_type": "code",
      "execution_count": 1,
      "metadata": {
        "id": "I5j4uZSW78YX"
      },
      "outputs": [],
      "source": [
        "import networkx as nx\n",
        "import matplotlib.pyplot as plt"
      ]
    },
    {
      "cell_type": "code",
      "source": [
        "vertices = range(1,10)\n",
        "edges = [(7,2),(2,3),(7,4),(4,5),(7,3),(7,5),(1,6),(1,7),(2,8),(2,9)]\n",
        "G = nx.Graph()"
      ],
      "metadata": {
        "id": "AZNBk-3n8JAn"
      },
      "execution_count": 2,
      "outputs": []
    },
    {
      "cell_type": "code",
      "source": [
        "G.add_nodes_from(vertices)\n",
        "G.add_edges_from(edges)\n",
        "pos = nx.spring_layout(G)"
      ],
      "metadata": {
        "id": "xVLLBKGp8Wuz"
      },
      "execution_count": 3,
      "outputs": []
    },
    {
      "cell_type": "code",
      "source": [
        "nx.draw_networkx_nodes(G,pos,\n",
        "                       nodelist = [1,4,3,8,9],\n",
        "                       node_color='g',\n",
        "                       node_size=1300)\n"
      ],
      "metadata": {
        "colab": {
          "base_uri": "https://localhost:8080/",
          "height": 266
        },
        "id": "6sT-F_YU8hx2",
        "outputId": "cb0a28e0-19be-4bad-f0a1-8d20acc12c80"
      },
      "execution_count": 5,
      "outputs": [
        {
          "output_type": "execute_result",
          "data": {
            "text/plain": [
              "<matplotlib.collections.PathCollection at 0x7f6247c68290>"
            ]
          },
          "metadata": {},
          "execution_count": 5
        },
        {
          "output_type": "display_data",
          "data": {
            "text/plain": [
              "<Figure size 432x288 with 1 Axes>"
            ],
            "image/png": "[encoded data removed]"
          },
          "metadata": {}
        }
      ]
    },
    {
      "cell_type": "code",
      "source": [
        "nx.draw_networkx_nodes(G,pos,\n",
        "                       nodelist = [2,5,6,7],\n",
        "                       node_color='r',\n",
        "                       node_size=1300)"
      ],
      "metadata": {
        "id": "7NGLAgEy_OGK",
        "colab": {
          "base_uri": "https://localhost:8080/",
          "height": 266
        },
        "outputId": "b93ee442-ee56-4878-af21-564ef48eb16a"
      },
      "execution_count": 6,
      "outputs": [
        {
          "output_type": "execute_result",
          "data": {
            "text/plain": [
              "<matplotlib.collections.PathCollection at 0x7f62477b8ad0>"
            ]
          },
          "metadata": {},
          "execution_count": 6
        },
        {
          "output_type": "display_data",
          "data": {
            "text/plain": [
              "<Figure size 432x288 with 1 Axes>"
            ],
            "image/png": "[encoded data removed]"
          },
          "metadata": {}
        }
      ]
    },
    {
      "cell_type": "code",
      "source": [
        "nx.draw_networkx_edges(G,pos,edges,width=3,alpha=0.5,edge_color ='b')\n",
        "labels={}\n",
        "labels[1]=r'1 NF'\n",
        "labels[2]=r'2 NF'\n",
        "labels[3]=r'3 NF'\n",
        "labels[4]=r'4 NF'\n",
        "labels[5]=r'5 NF'\n",
        "labels[6]=r'6 NF'\n",
        "labels[7]=r'7 NF'\n",
        "labels[8]=r'8 NF'\n",
        "labels[9]=r'9 NF'\n",
        "\n",
        "nx.draw_networkx_labels(G,pos,labels,font_size=20)"
      ],
      "metadata": {
        "colab": {
          "base_uri": "https://localhost:8080/",
          "height": 411
        },
        "id": "rvU74pbUTiQ6",
        "outputId": "7f657384-567b-473d-cebe-da7f6635f04e"
      },
      "execution_count": 15,
      "outputs": [
        {
          "output_type": "execute_result",
          "data": {
            "text/plain": [
              "{1: Text(-0.4121074316890142, -0.6044088028793202, '1 NF'),\n",
              " 2: Text(0.10002054328099871, 0.5216713173132204, '2 NF'),\n",
              " 3: Text(-0.12824824744824204, 0.22502095215716097, '3 NF'),\n",
              " 4: Text(0.49837204931722595, -0.3494526816414555, '4 NF'),\n",
              " 5: Text(0.3046404485822898, -0.5720928819789451, '5 NF'),\n",
              " 6: Text(-0.7550847639940637, -0.9634751679347001, '6 NF'),\n",
              " 7: Text(0.04156662535588316, -0.157234867054425, '7 NF'),\n",
              " 8: Text(0.448505330591645, 0.8999721320184647, '8 NF'),\n",
              " 9: Text(-0.09766455399672273, 1.0, '9 NF')}"
            ]
          },
          "metadata": {},
          "execution_count": 15
        },
        {
          "output_type": "display_data",
          "data": {
            "text/plain": [
              "<Figure size 432x288 with 1 Axes>"
            ],
            "image/png": "[encoded data removed]"
          },
          "metadata": {}
        }
      ]
    },
    {
      "cell_type": "code",
      "source": [],
      "metadata": {
        "id": "rGl0zpEbUh_u"
      },
      "execution_count": null,
      "outputs": []
    }
  ]
}