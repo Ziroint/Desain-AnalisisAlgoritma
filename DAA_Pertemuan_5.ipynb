{
  "nbformat": 4,
  "nbformat_minor": 0,
  "metadata": {
    "colab": {
      "provenance": [],
      "authorship_tag": "ABX9TyOLD6xYsVRw425vT9e80xB6",
      "include_colab_link": true
    },
    "kernelspec": {
      "name": "python3",
      "display_name": "Python 3"
    },
    "language_info": {
      "name": "python"
    }
  },
  "cells": [
    {
      "cell_type": "markdown",
      "metadata": {
        "id": "view-in-github",
        "colab_type": "text"
      },
      "source": [
        "<a href=\"https://colab.research.google.com/github/Ziroint/Desain-AnalisisAlgoritma/blob/main/DAA_Pertemuan_5.ipynb\" target=\"_parent\"><img src=\"https://colab.research.google.com/assets/colab-badge.svg\" alt=\"Open In Colab\"/></a>"
      ]
    },
    {
      "cell_type": "markdown",
      "source": [
        "Implementasi Algoritma Divide dan Conquer"
      ],
      "metadata": {
        "id": "Vi9NdjrfpAXR"
      }
    },
    {
      "cell_type": "code",
      "source": [
        "def countInversion(arr):\n",
        "  result = 0\n",
        "  for i in range(len(arr)):\n",
        "    for j in range(i+1,len(arr)):\n",
        "      if arr[i]>arr[j]:\n",
        "        result+=1\n",
        "\n",
        "  return result"
      ],
      "metadata": {
        "id": "BsRW4wkvpDyY"
      },
      "execution_count": 1,
      "outputs": []
    },
    {
      "cell_type": "code",
      "source": [
        "arr = [21,70,36,14,25]\n",
        "result = countInversion(arr)\n",
        "print(result)\n",
        "\n",
        "#1 = 21,36,70,14,25\n",
        "\n",
        "#2 = 21,36,14,70,25\n",
        "\n",
        "#3 = 21,14,36,70,25\n",
        "\n",
        "#4 = 14,21,36,70,25\n",
        "\n",
        "#5 = 14,21,36,25,70\n",
        "\n",
        "# 6 = 14,21,25,36,70"
      ],
      "metadata": {
        "colab": {
          "base_uri": "https://localhost:8080/"
        },
        "id": "Wb8bxqBOpWex",
        "outputId": "98655f13-7e0e-48d6-ceca-11c2d625eeee"
      },
      "execution_count": 4,
      "outputs": [
        {
          "output_type": "stream",
          "name": "stdout",
          "text": [
            "6\n"
          ]
        }
      ]
    },
    {
      "cell_type": "code",
      "source": [
        "# hitung inversi dengan divide and conquer\n",
        "def countInversion(arr):\n",
        "  icount = 0\n",
        "  if len(arr)<=1:\n",
        "    return icount\n",
        "\n",
        "  mid = len(arr)//2\n",
        "  left = arr[:mid]\n",
        "  right = arr[mid:]\n",
        "  icount += countInversion(left)\n",
        "  icount += countInversion(right)\n",
        "  i = j = k =0\n",
        "\n",
        "  #kita print left dan right\n",
        "  while i<len(left) and j<len(right):\n",
        "    if left[i]<right[j]:\n",
        "      arr[k] = left[i]\n",
        "      i+=1\n",
        "\n",
        "    else:\n",
        "      arr[k]=right[j]\n",
        "      j+=1\n",
        "      icount+=(mid-i)\n",
        "    k+=1\n",
        "  \n",
        "  while i<len(left):\n",
        "    arr[k] = left[i]\n",
        "    i+=1\n",
        "    k+=1\n",
        "  \n",
        "  while j<len(right):\n",
        "    arr[k] = right[j]\n",
        "    j+=1\n",
        "    k+=1\n",
        "  \n",
        "  return icount"
      ],
      "metadata": {
        "id": "87voIX4pvoeL"
      },
      "execution_count": 5,
      "outputs": []
    },
    {
      "cell_type": "code",
      "source": [
        "arr = [1,20,6,4,5]\n",
        "result = countInversion(arr)\n",
        "print(result)"
      ],
      "metadata": {
        "colab": {
          "base_uri": "https://localhost:8080/"
        },
        "id": "CmKC_9YuvoQS",
        "outputId": "6906bb64-082e-4b41-9aab-cc35a7e26672"
      },
      "execution_count": 6,
      "outputs": [
        {
          "output_type": "stream",
          "name": "stdout",
          "text": [
            "5\n"
          ]
        }
      ]
    },
    {
      "cell_type": "code",
      "source": [
        "# mencari hasil penjumlahan terbesar\n",
        "def maxSubSum(arr):\n",
        "  max_so_far = 0\n",
        "  max_ending_here = 0\n",
        "  for i in range(len(arr)):\n",
        "    max_ending_here+=arr[i]\n",
        "    if max_ending_here>max_so_far:\n",
        "      max_so_far = max_ending_here\n",
        "    if max_ending_here < 0:\n",
        "      max_ending_here = 0\n",
        "    \n",
        "  return max_so_far"
      ],
      "metadata": {
        "id": "24CJ3UEb2vHV"
      },
      "execution_count": 8,
      "outputs": []
    },
    {
      "cell_type": "code",
      "source": [
        "arr = [-2,-5,6,-2,-3,1,5,-6]\n",
        "result = maxSubSum(arr)\n",
        "print(result)"
      ],
      "metadata": {
        "colab": {
          "base_uri": "https://localhost:8080/"
        },
        "id": "IioOj6l23N5u",
        "outputId": "99b03ec8-19ba-4a6b-f25d-853a5d4e5a2b"
      },
      "execution_count": 13,
      "outputs": [
        {
          "output_type": "stream",
          "name": "stdout",
          "text": [
            "7\n"
          ]
        }
      ]
    },
    {
      "cell_type": "code",
      "source": [
        "# menggunakan divide and conquer\n",
        "# mencari hasil penjumlahan terbesar\n",
        "def maxCrossingSum(arr,low,mid,high):\n",
        "  result=0; leftSum=float('-infinity')\n",
        "  for i in range(mid,low-1,1):\n",
        "    result+=arr[i]\n",
        "    if result>leftSum:\n",
        "      leftSum = result\n",
        "    \n",
        "  result=0; rightSum = float('-infinity')\n",
        "  for i in range(mid+1,high+1):\n",
        "    result+=arr[i]\n",
        "    if result>rightSum:\n",
        "      rightSum=result\n",
        "  return leftSum+rightSum\n",
        "\n",
        "def maxSum(arr,low,high):\n",
        "  if low == high:\n",
        "    return arr[low]\n",
        "  mid=(low+high)//2\n",
        "  return max(maxSum(arr,low,mid),maxSum(arr,mid+1,high),maxCrossingSum(arr,low,mid,high))\n"
      ],
      "metadata": {
        "id": "C8-ouqkU707b"
      },
      "execution_count": 15,
      "outputs": []
    },
    {
      "cell_type": "code",
      "source": [
        "arr = [-2,-5,6,-2,-3,1,5,-6]\n",
        "result = maxSum(arr,0,len(arr)-1)\n",
        "print(result)"
      ],
      "metadata": {
        "colab": {
          "base_uri": "https://localhost:8080/"
        },
        "id": "UNAlH00o9E_5",
        "outputId": "1d27256c-4e66-4be6-b352-a43c9c844aa2"
      },
      "execution_count": 17,
      "outputs": [
        {
          "output_type": "stream",
          "name": "stdout",
          "text": [
            "6\n"
          ]
        }
      ]
    },
    {
      "cell_type": "code",
      "source": [
        "def commonPrefix(str1,str2):\n",
        "  n1 = len(str1)\n",
        "  n2 = len(str2)\n",
        "  i,j=0,0\n",
        "  s =\"\"\n",
        "  while i<n1 and j<n2:\n",
        "    if str1[i] == str2[j]:\n",
        "      s += str1[i]\n",
        "      i+=1\n",
        "      j +=1\n",
        "    else:\n",
        "      break\n",
        "  return s"
      ],
      "metadata": {
        "id": "X_P30mNIBQ0B"
      },
      "execution_count": 21,
      "outputs": []
    },
    {
      "cell_type": "code",
      "source": [
        "# mencari potongan suku kata yang sama\n",
        "def longestCommonPrefix(arr,low,high):\n",
        "  if low==high:\n",
        "    return arr[low]\n",
        "  mid =(low+high)//2\n",
        "  result1 = longestCommonPrefix(arr,low,mid)\n",
        "  result2 = longestCommonPrefix(arr,mid+1,high)\n",
        "  result = commonPrefix(result1,result2)\n",
        "  return result\n"
      ],
      "metadata": {
        "id": "XbERf4cZBnbY"
      },
      "execution_count": 19,
      "outputs": []
    },
    {
      "cell_type": "code",
      "source": [
        "arr = ['geeksforgeeks', 'geeks', 'geek', 'geezer']\n",
        "result = longestCommonPrefix(arr,0,len(arr)-1)\n",
        "print(result)"
      ],
      "metadata": {
        "colab": {
          "base_uri": "https://localhost:8080/"
        },
        "id": "iIaTGo5PB7yN",
        "outputId": "300e8b3b-3461-42be-affd-211856fe7693"
      },
      "execution_count": 22,
      "outputs": [
        {
          "output_type": "stream",
          "name": "stdout",
          "text": [
            "gee\n"
          ]
        }
      ]
    },
    {
      "cell_type": "code",
      "source": [
        "arr = [\"apple\",\"ape\",\"april\"]\n",
        "result = longestCommonPrefix(arr,0,len(arr)-1)\n",
        "print(result)"
      ],
      "metadata": {
        "colab": {
          "base_uri": "https://localhost:8080/"
        },
        "id": "QmPm5vhoCVIV",
        "outputId": "fd789ced-a012-43bf-cbe8-624e31d8e627"
      },
      "execution_count": 23,
      "outputs": [
        {
          "output_type": "stream",
          "name": "stdout",
          "text": [
            "ap\n"
          ]
        }
      ]
    },
    {
      "cell_type": "markdown",
      "source": [],
      "metadata": {
        "id": "1hbZ8-OAtv9M"
      }
    },
    {
      "cell_type": "code",
      "source": [
        "# median dari dua array dengan divide dan conquer\n",
        "def medianOfArray(arr1,arr2,n):\n",
        "  m1 = -1 #first number\n",
        "  m2 = -1 #second number\n",
        "  count = 0\n",
        "  i = j =0\n",
        "  while count<n+1:\n",
        "    count +=1\n",
        "    if i ==n: #i ==5 index error if arr1[i]<arr2[j] is checked\n",
        "      m1=m2\n",
        "      m2=arr2[0]\n",
        "      break\n",
        "    if j==n:\n",
        "      m1=m2\n",
        "      m2=arr1[0]\n",
        "      break\n",
        "    if arr1[i]<arr2[j]:\n",
        "      m1=m2\n",
        "      m2=arr1[i]\n",
        "      i+=1\n",
        "    else:\n",
        "      m1=m2\n",
        "      m2 =arr2[j]\n",
        "      j+=1\n",
        "      \n",
        "  return (m1+m2)//2\n",
        "\n"
      ],
      "metadata": {
        "id": "3LesmHIBCn_G"
      },
      "execution_count": 26,
      "outputs": []
    },
    {
      "cell_type": "code",
      "source": [
        "arr1 = [1,12,15,26,38]\n",
        "arr2 = [2,13,17,30,45]\n",
        "\n",
        "print(medianOfArray(arr1,arr2,len(arr1)))"
      ],
      "metadata": {
        "colab": {
          "base_uri": "https://localhost:8080/"
        },
        "id": "uQlDWQh0DXNu",
        "outputId": "2af03499-0002-463a-e6ab-e11a8b61bfce"
      },
      "execution_count": 27,
      "outputs": [
        {
          "output_type": "stream",
          "name": "stdout",
          "text": [
            "16\n"
          ]
        }
      ]
    },
    {
      "cell_type": "code",
      "source": [
        "#mencari nilai tengah array yang berurutan, namun ukurannya berbeda\n",
        "\n",
        "def floorSorted(arr,low,high,x):\n",
        "  if low>high:\n",
        "    return -1\n",
        "  if arr[low]>x:\n",
        "    return -1\n",
        "  \n",
        "  if arr[high]<=x:\n",
        "    return arr[high]\n",
        "\n",
        "  mid =(low+high)//2\n",
        "\n",
        "  if arr[mid]==x:\n",
        "    return arr[mid]\n",
        "  \n",
        "  if mid>0 and x>=arr[mid-1] and arr[mid]>x:\n",
        "    return arr[mid-1]\n",
        "  \n",
        "  if mid<high and x<arr[mid+1] and x>=arr[mid]:\n",
        "    return arr[mid]\n",
        "  \n",
        "  if x>arr[mid]:\n",
        "    return floorSorted(arr,mid+1,high,x)\n",
        "  else:\n",
        "    return floorSorted(arr,low,mid-1,x)"
      ],
      "metadata": {
        "id": "RT4RESBQFdrf"
      },
      "execution_count": 28,
      "outputs": []
    },
    {
      "cell_type": "code",
      "source": [
        "arr= [1,2,8,10,12,14,19]\n",
        "x = 5\n",
        "print(floorSorted(arr,0,len(arr)-1,x))"
      ],
      "metadata": {
        "colab": {
          "base_uri": "https://localhost:8080/"
        },
        "id": "WmCdm1NYGGWC",
        "outputId": "5cd4eab5-2f28-4151-984b-7b0358fb8de4"
      },
      "execution_count": 45,
      "outputs": [
        {
          "output_type": "stream",
          "name": "stdout",
          "text": [
            "2\n"
          ]
        }
      ]
    },
    {
      "cell_type": "code",
      "source": [
        "#mencari nilai terdekat dengan metode divide dan conquer\n",
        "def closestNumber(arr,low,high,x):\n",
        "  if low>high:\n",
        "    return -1\n",
        "  if arr[high]<=x:\n",
        "    return arr[high]\n",
        "  if arr[low]>=x:\n",
        "    return arr[low]\n",
        "  mid = (low+high)//2\n",
        "  if arr[mid] ==x:\n",
        "    return arr[mid]\n",
        "  abs_mid = abs(arr[mid]-x)\n",
        "  if mid>0:\n",
        "    abs_left=abs(arr[mid-1]-x)\n",
        "    if abs_left<abs_mid:\n",
        "      return closestNumber(arr,mid-1,high,x)\n",
        "  if mid<high:\n",
        "    abs_right=abs(arr[mid+1]-x)\n",
        "    if abs_right<abs_mid:\n",
        "      return closestNumber(arr,mid+1,high,x)\n",
        "    return arr[mid]\n",
        "    "
      ],
      "metadata": {
        "id": "UirgHgA4LC9F"
      },
      "execution_count": 30,
      "outputs": []
    },
    {
      "cell_type": "code",
      "source": [
        "arr = [2,5,6,7,8,8,9]\n",
        "x = 9\n",
        "print(closestNumber(arr,0,len(arr)-1,x))"
      ],
      "metadata": {
        "colab": {
          "base_uri": "https://localhost:8080/"
        },
        "id": "9Crk9eXeL0pb",
        "outputId": "1f0e5923-cc66-4d8e-d7b8-21b1ff984878"
      },
      "execution_count": 31,
      "outputs": [
        {
          "output_type": "stream",
          "name": "stdout",
          "text": [
            "9\n"
          ]
        }
      ]
    },
    {
      "cell_type": "code",
      "source": [
        "#fixed point\n",
        "def fixedPoint(arr,low,high):\n",
        "  if low>high:\n",
        "    return -1\n",
        "  if arr[high]==high:\n",
        "    return arr[high]\n",
        "  if arr[low] ==low:\n",
        "    return arr[low]\n",
        "  mid = (low+high)//2\n",
        "  if arr[mid]==mid:\n",
        "    return arr[mid]\n",
        "  if mid>arr[mid]:\n",
        "    return fixedPoint(arr,mid+1,high)\n",
        "  else:\n",
        "    return fixedPoint(arr,low,mid-1)"
      ],
      "metadata": {
        "id": "IFZfazouL8nC"
      },
      "execution_count": 32,
      "outputs": []
    },
    {
      "cell_type": "code",
      "source": [
        "arr = [9,1,4,5,2]\n",
        "print(fixedPoint(arr,0,len(arr)-1))"
      ],
      "metadata": {
        "colab": {
          "base_uri": "https://localhost:8080/"
        },
        "id": "H6y0mYASO5jQ",
        "outputId": "355ac05b-4ebb-4a23-9eac-9dbb3b899516"
      },
      "execution_count": 33,
      "outputs": [
        {
          "output_type": "stream",
          "name": "stdout",
          "text": [
            "1\n"
          ]
        }
      ]
    },
    {
      "cell_type": "code",
      "source": [],
      "metadata": {
        "id": "e9oFaDv_O9-n"
      },
      "execution_count": null,
      "outputs": []
    }
  ]
}