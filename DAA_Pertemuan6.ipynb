{
  "nbformat": 4,
  "nbformat_minor": 0,
  "metadata": {
    "colab": {
      "provenance": [],
      "authorship_tag": "ABX9TyN3p9scen6uGnKtJzJwVlB2",
      "include_colab_link": true
    },
    "kernelspec": {
      "name": "python3",
      "display_name": "Python 3"
    },
    "language_info": {
      "name": "python"
    }
  },
  "cells": [
    {
      "cell_type": "markdown",
      "metadata": {
        "id": "view-in-github",
        "colab_type": "text"
      },
      "source": [
        "<a href=\"https://colab.research.google.com/github/Ziroint/Desain-AnalisisAlgoritma/blob/main/DAA_Pertemuan6.ipynb\" target=\"_parent\"><img src=\"https://colab.research.google.com/assets/colab-badge.svg\" alt=\"Open In Colab\"/></a>"
      ]
    },
    {
      "cell_type": "markdown",
      "source": [
        "Fibonacci dengan while"
      ],
      "metadata": {
        "id": "kLzn3Ds0tQHL"
      }
    },
    {
      "cell_type": "code",
      "execution_count": 6,
      "metadata": {
        "colab": {
          "base_uri": "https://localhost:8080/"
        },
        "id": "poPKBnlforX8",
        "outputId": "4b3844d3-dce2-43e4-d89a-bd924ca06dc7"
      },
      "outputs": [
        {
          "output_type": "stream",
          "name": "stdout",
          "text": [
            "How many terms?20\n",
            "Fibonacci sequence: \n",
            "0\n",
            "1\n",
            "1\n",
            "2\n",
            "3\n",
            "5\n",
            "8\n",
            "13\n",
            "21\n",
            "34\n",
            "55\n",
            "89\n",
            "144\n",
            "233\n",
            "377\n",
            "610\n",
            "987\n",
            "1597\n",
            "2584\n",
            "4181\n"
          ]
        }
      ],
      "source": [
        "#first two terms\n",
        "nterms = int(input(\"How many terms?\"))\n",
        "n1,n2 = 0,1\n",
        "count = 0\n",
        "\n",
        "# check if the number of terms is valid\n",
        "if nterms <= 0:\n",
        "  print(\"Please enter a positive integer\")\n",
        "elif nterms == 1:\n",
        "  print(\"Fibonacci sequence upto\", nterms,\":\")\n",
        "  print(n1)\n",
        "else:\n",
        "  print(\"Fibonacci sequence: \")\n",
        "  while count < nterms:\n",
        "    print(n1)\n",
        "    nth = n1 + n2\n",
        "    #update values\n",
        "    n1=n2\n",
        "    n2=nth\n",
        "    count +=1"
      ]
    },
    {
      "cell_type": "markdown",
      "source": [
        "Fibonacci dengan Rekursi"
      ],
      "metadata": {
        "id": "llRO6Gjisrgr"
      }
    },
    {
      "cell_type": "code",
      "source": [
        "# Fibonacci dengan rekursi\n",
        "\n",
        "def recur_fibo(n):\n",
        "  if n <=1:\n",
        "    return n\n",
        "  else:\n",
        "    return(recur_fibo(n-1)+recur_fibo(n-2))\n",
        "\n",
        "nterms = 20\n",
        "\n",
        "# cek apakah nilai nterms valid\n",
        "if nterms <= 0:\n",
        "  print(\"Please enter a positive integer\")\n",
        "else:\n",
        "  print(\"Fibonacci sequence:\")\n",
        "  for i in range(nterms):\n",
        "    print(recur_fibo(i))"
      ],
      "metadata": {
        "colab": {
          "base_uri": "https://localhost:8080/"
        },
        "id": "oMzmCV1Rsukr",
        "outputId": "bcc3b463-3651-4970-d7de-f89bb63a9e8d"
      },
      "execution_count": 15,
      "outputs": [
        {
          "output_type": "stream",
          "name": "stdout",
          "text": [
            "Fibonacci sequence:\n",
            "0\n",
            "1\n",
            "1\n",
            "2\n",
            "3\n",
            "5\n",
            "8\n",
            "13\n",
            "21\n",
            "34\n",
            "55\n",
            "89\n",
            "144\n",
            "233\n",
            "377\n",
            "610\n",
            "987\n",
            "1597\n",
            "2584\n",
            "4181\n"
          ]
        }
      ]
    },
    {
      "cell_type": "markdown",
      "source": [
        "Latihan bagaimana hasil fibonacci: 30 angka, rekursi, bisa input"
      ],
      "metadata": {
        "id": "43LYG8BavLCa"
      }
    },
    {
      "cell_type": "code",
      "source": [
        "def angka(x):\n",
        "  if x <=1:\n",
        "    return x\n",
        "  else:\n",
        "    return(angka(x-1)+angka(x-2))\n",
        "\n",
        "inputan = int(input(\"Masukkan angka:\"))\n",
        "\n",
        "if inputan <= 0:\n",
        "  print(\"Please enter a positive integer\")\n",
        "else:\n",
        "  print(\"Fibonacci sequence:\")\n",
        "  for i in range(inputan):\n",
        "    print(angka(i))"
      ],
      "metadata": {
        "colab": {
          "base_uri": "https://localhost:8080/"
        },
        "id": "xIwISarcvO5r",
        "outputId": "66de720b-da0b-44b7-b100-4a5ad21f95ec"
      },
      "execution_count": 22,
      "outputs": [
        {
          "output_type": "stream",
          "name": "stdout",
          "text": [
            "Masukkan angka:30\n",
            "Fibonacci sequence:\n",
            "0\n",
            "1\n",
            "1\n",
            "2\n",
            "3\n",
            "5\n",
            "8\n",
            "13\n",
            "21\n",
            "34\n",
            "55\n",
            "89\n",
            "144\n",
            "233\n",
            "377\n",
            "610\n",
            "987\n",
            "1597\n",
            "2584\n",
            "4181\n",
            "6765\n",
            "10946\n",
            "17711\n",
            "28657\n",
            "46368\n",
            "75025\n",
            "121393\n",
            "196418\n",
            "317811\n",
            "514229\n"
          ]
        }
      ]
    },
    {
      "cell_type": "markdown",
      "source": [
        "Algortima Greedy"
      ],
      "metadata": {
        "id": "9Q4pex0kzNcT"
      }
    },
    {
      "cell_type": "code",
      "source": [
        "import random\n",
        "from itertools import permutations\n",
        "alltours = permutations\n",
        "\n",
        "def distance_tour(aTour):\n",
        "  return sum(distance_points(aTour[i-1], aTour[i])\n",
        "    for i in range(len(aTour)))\n",
        "\n",
        "aCity = complex\n",
        "\n",
        "def distance_points(first, second):\n",
        "  return abs(first - second)\n",
        "\n",
        "def generate_cities(number_of_cities):\n",
        "  seed=111; width=500; height=300\n",
        "  random.seed((number_of_cities, seed))\n",
        "  return frozenset(aCity(random.randint(1,width), random.randint(1,height))\n",
        "  for c in range(number_of_cities))"
      ],
      "metadata": {
        "id": "KwCMOyEXzOm-"
      },
      "execution_count": 30,
      "outputs": []
    },
    {
      "cell_type": "code",
      "source": [
        "%matplotlib inline\n",
        "import matplotlib.pyplot as plt\n",
        "\n",
        "def visualize_tour(tour, style='bo-'):\n",
        "  if len(tour) > 1000: plt.figure(figsize=(15,10))\n",
        "  start = tour[0:1]\n",
        "  visualize_segment(tour + start, style)\n",
        "  visualize_segment(start, 'rD')\n",
        "\n",
        "def visualize_segment(segment, style='bo-'):\n",
        "  plt.plot([X(c) for c in segment], [Y(c) for c in segment], style, clip_on=False)\n",
        "  plt.axis('scaled')\n",
        "  plt.axis('off')\n",
        "\n",
        "def X(city): \"X axis\"; return city.real\n",
        "\n",
        "def Y(city): \"Y axis\"; return city.imag\n"
      ],
      "metadata": {
        "id": "pFyQLmAA03pj"
      },
      "execution_count": 31,
      "outputs": []
    },
    {
      "cell_type": "code",
      "source": [
        "from time import process_time\n",
        "from collections import Counter\n",
        "def tsp(algorithm, cities):\n",
        "  t0 = process_time()\n",
        "  tour= algorithm(cities)\n",
        "  t1 = process_time()\n",
        "  assert Counter(tour) == Counter(cities)\n",
        "  visualize_tour(tour)\n",
        "  print(\"{}:{} cities => tour length {:.0f}(in {:.3f} sec)\". format(name(algorithm),len(tour), distance_tour(tour), t1-t0))\n",
        "\n",
        "def name(algorithm):\n",
        "  return algorithm.__name__.replace('_tsp','')"
      ],
      "metadata": {
        "id": "C2HueXJi1tGT"
      },
      "execution_count": 32,
      "outputs": []
    },
    {
      "cell_type": "code",
      "source": [
        "def greedy_algorithm(cities, start=None):\n",
        "  C = start or first(cities)\n",
        "  tour = [C]\n",
        "  unvisited = set(cities-{C})\n",
        "  while unvisited:\n",
        "    C = nearest_neighbor(C, unvisited)\n",
        "    tour.append(C)\n",
        "    unvisited.remove(C)\n",
        "  return tour\n",
        "\n",
        "def first(collection):\n",
        "  return next(iter(collection))\n",
        "\n",
        "def nearest_neighbor(A, cities):\n",
        "  return min(cities, key=lambda C: distance_points(C,A))"
      ],
      "metadata": {
        "id": "7GpUWK8r2xFk"
      },
      "execution_count": 35,
      "outputs": []
    },
    {
      "cell_type": "code",
      "source": [
        "tsp(greedy_algorithm, generate_cities(100))"
      ],
      "metadata": {
        "colab": {
          "base_uri": "https://localhost:8080/",
          "height": 246
        },
        "id": "wfuQnB5j3Zkr",
        "outputId": "a5f4ecf4-bbf5-477b-8f4f-30640e0457b5"
      },
      "execution_count": 40,
      "outputs": [
        {
          "output_type": "stream",
          "name": "stdout",
          "text": [
            "greedy_algorithm:100 cities => tour length 3901(in 0.002 sec)\n"
          ]
        },
        {
          "output_type": "display_data",
          "data": {
            "text/plain": [
              "<Figure size 432x288 with 1 Axes>"
            ],
            "image/png": "[encoded data removed]"
          },
          "metadata": {
            "needs_background": "light"
          }
        }
      ]
    },
    {
      "cell_type": "code",
      "source": [
        "String = 'BCAADDDCCACACAC'\n",
        "\n",
        "#creating tree nodes\n",
        "class NodeTree(object):\n",
        "\n",
        "  def __init__(self, left=None, right=None):\n",
        "    self.left = left\n",
        "    self.right = right\n",
        "  \n",
        "  def children(self):\n",
        "    return (self.left, self.right)\n",
        "  \n",
        "  def nodes(self):\n",
        "    return (self.left, self.right)\n",
        "\n",
        "  def __str__(self):\n",
        "    return '%s_%s' %(self.left, self.right)\n",
        "    "
      ],
      "metadata": {
        "id": "cttPkowA3d2b"
      },
      "execution_count": 41,
      "outputs": []
    },
    {
      "cell_type": "code",
      "source": [
        "# main function implementing huffman coding\n",
        "def huffman_code_tree(node, left=True, binString=''):\n",
        "  if type(node) is str:\n",
        "    return{node: binString}\n",
        "  (l,r) = node.children()\n",
        "  d = dict()\n",
        "  d.update(huffman_code_tree(l,True,binString+'0'))\n",
        "  d.update(huffman_code_tree(r,False,binString + '1'))\n",
        "  return d"
      ],
      "metadata": {
        "id": "OYoOUluiHDb9"
      },
      "execution_count": 42,
      "outputs": []
    },
    {
      "cell_type": "code",
      "source": [
        "# calculating frequency\n",
        "freq = {}\n",
        "for c in String:\n",
        "  if c in freq:\n",
        "    freq[c] +=1\n",
        "  else:\n",
        "    freq[c] =1\n",
        "  \n",
        "freq = sorted(freq.items(), key= lambda x: x[1], reverse=True)\n",
        "\n",
        "nodes = freq\n",
        "\n",
        "while len(nodes)>1:\n",
        "  (key1,c1) = nodes[-1]\n",
        "  (key2,c2) = nodes[-2]\n",
        "  nodes = nodes[:-2]\n",
        "  node = NodeTree(key1,key2)\n",
        "  nodes.append((node,c1+c2))\n",
        "\n",
        "  nodes = sorted(nodes, key=lambda x: x[1], reverse=True)\n",
        "\n",
        "huffmanCode = huffman_code_tree(nodes[0][0])\n",
        "\n",
        "print('Char | Huffman code')\n",
        "print('---------------------')\n",
        "for(char, frequency) in freq:\n",
        "  print(' %-4r |%12s' %(char,huffmanCode[char]))"
      ],
      "metadata": {
        "colab": {
          "base_uri": "https://localhost:8080/"
        },
        "id": "2J5pJpCiHlAQ",
        "outputId": "29c9e57c-1ddd-4461-a3a6-cfdf250f8908"
      },
      "execution_count": 44,
      "outputs": [
        {
          "output_type": "stream",
          "name": "stdout",
          "text": [
            "Char | Huffman code\n",
            "---------------------\n",
            " 'C'  |           0\n",
            " 'A'  |          11\n",
            " 'D'  |         101\n",
            " 'B'  |         100\n"
          ]
        }
      ]
    },
    {
      "cell_type": "markdown",
      "source": [
        "Latihan masukkan string lain"
      ],
      "metadata": {
        "id": "WVlP5tefRJN9"
      }
    },
    {
      "cell_type": "code",
      "source": [
        "String = 'EEUYRRYEURE'\n",
        "\n",
        "#creating tree nodes\n",
        "class NodeTree(object):\n",
        "\n",
        "  def __init__(self, left=None, right=None):\n",
        "    self.left = left\n",
        "    self.right = right\n",
        "  \n",
        "  def children(self):\n",
        "    return (self.left, self.right)\n",
        "  \n",
        "  def nodes(self):\n",
        "    return (self.left, self.right)\n",
        "\n",
        "  def __str__(self):\n",
        "    return '%s_%s' %(self.left, self.right)\n",
        "\n",
        "def huffman_code_tree(node, left=True, binString=''):\n",
        "  if type(node) is str:\n",
        "    return{node: binString}\n",
        "  (l,r) = node.children()\n",
        "  d = dict()\n",
        "  d.update(huffman_code_tree(l,True,binString+'0'))\n",
        "  d.update(huffman_code_tree(r,False,binString + '1'))\n",
        "  return d\n",
        "\n",
        "\n",
        "freq = {}\n",
        "for c in String:\n",
        "  if c in freq:\n",
        "    freq[c] +=1\n",
        "  else:\n",
        "    freq[c] =1\n",
        "  \n",
        "freq = sorted(freq.items(), key= lambda x: x[1], reverse=True)\n",
        "\n",
        "nodes = freq\n",
        "\n",
        "while len(nodes)>1:\n",
        "  (key1,c1) = nodes[-1]\n",
        "  (key2,c2) = nodes[-2]\n",
        "  nodes = nodes[:-2]\n",
        "  node = NodeTree(key1,key2)\n",
        "  nodes.append((node,c1+c2))\n",
        "\n",
        "  nodes = sorted(nodes, key=lambda x: x[1], reverse=True)\n",
        "\n",
        "huffmanCode = huffman_code_tree(nodes[0][0])\n",
        "\n",
        "print('Char | Huffman code')\n",
        "print('---------------------')\n",
        "for(char, frequency) in freq:\n",
        "  print(' %-4r |%12s' %(char,huffmanCode[char]))"
      ],
      "metadata": {
        "colab": {
          "base_uri": "https://localhost:8080/"
        },
        "id": "G8eDLTx2RLtx",
        "outputId": "2c951132-3ef7-423b-bdd3-3f3c82b35fcd"
      },
      "execution_count": 46,
      "outputs": [
        {
          "output_type": "stream",
          "name": "stdout",
          "text": [
            "Char | Huffman code\n",
            "---------------------\n",
            " 'E'  |           0\n",
            " 'R'  |          10\n",
            " 'U'  |         111\n",
            " 'Y'  |         110\n"
          ]
        }
      ]
    }
  ]
}