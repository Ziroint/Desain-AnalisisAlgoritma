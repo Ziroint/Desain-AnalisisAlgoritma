{
  "nbformat": 4,
  "nbformat_minor": 0,
  "metadata": {
    "colab": {
      "provenance": [],
      "authorship_tag": "ABX9TyOOvPGDJyrkYJmNO9F96Oor",
      "include_colab_link": true
    },
    "kernelspec": {
      "name": "python3",
      "display_name": "Python 3"
    },
    "language_info": {
      "name": "python"
    }
  },
  "cells": [
    {
      "cell_type": "markdown",
      "metadata": {
        "id": "view-in-github",
        "colab_type": "text"
      },
      "source": [
        "<a href=\"https://colab.research.google.com/github/Ziroint/Desain-AnalisisAlgoritma/blob/main/Pertemuanke2.ipynb\" target=\"_parent\"><img src=\"https://colab.research.google.com/assets/colab-badge.svg\" alt=\"Open In Colab\"/></a>"
      ]
    },
    {
      "cell_type": "code",
      "execution_count": 1,
      "metadata": {
        "colab": {
          "base_uri": "https://localhost:8080/"
        },
        "id": "Dw0uYDlY5gIi",
        "outputId": "65059531-0671-4f4b-fded-c7d5b9e9925d"
      },
      "outputs": [
        {
          "output_type": "stream",
          "name": "stdout",
          "text": [
            "1.21.6\n"
          ]
        }
      ],
      "source": [
        "import numpy as np\n",
        "print(np.__version__)"
      ]
    },
    {
      "cell_type": "markdown",
      "source": [
        "Latihan 1"
      ],
      "metadata": {
        "id": "x8pseruf6N75"
      }
    },
    {
      "cell_type": "code",
      "source": [
        "print(\"Hello, World!\")\n",
        "print(\"Nama saya Yeru Dwi Pratama Halim\")\n",
        "print(\"NIM saya 2021071033\")"
      ],
      "metadata": {
        "colab": {
          "base_uri": "https://localhost:8080/"
        },
        "id": "VLNGiUyi6QTT",
        "outputId": "80a968cd-b5b2-4c82-9f9e-bfd5e1f05773"
      },
      "execution_count": 2,
      "outputs": [
        {
          "output_type": "stream",
          "name": "stdout",
          "text": [
            "Hello, World!\n",
            "Nama saya Yeru Dwi Pratama Halim\n",
            "NIM saya 2021071033\n"
          ]
        }
      ]
    },
    {
      "cell_type": "markdown",
      "source": [
        "Latihan 2"
      ],
      "metadata": {
        "id": "uGoDFWC26jE0"
      }
    },
    {
      "cell_type": "code",
      "source": [
        "if 5>2:\n",
        "  print(\"Five is greater than two!\")"
      ],
      "metadata": {
        "colab": {
          "base_uri": "https://localhost:8080/"
        },
        "id": "V3ctnOtY6kjT",
        "outputId": "136418bb-0f3f-4612-d3d2-d5a232ef4c81"
      },
      "execution_count": 3,
      "outputs": [
        {
          "output_type": "stream",
          "name": "stdout",
          "text": [
            "Five is greater than two!\n"
          ]
        }
      ]
    },
    {
      "cell_type": "markdown",
      "source": [
        "Latihan 3"
      ],
      "metadata": {
        "id": "OaA2cxNK6q1s"
      }
    },
    {
      "cell_type": "code",
      "source": [
        "x = 5\n",
        "y = \"John\"\n",
        "print(x)\n",
        "print(y)"
      ],
      "metadata": {
        "colab": {
          "base_uri": "https://localhost:8080/"
        },
        "id": "sWe_tA4C6r9Q",
        "outputId": "715381cb-9f26-446d-9b71-eb0446181082"
      },
      "execution_count": 4,
      "outputs": [
        {
          "output_type": "stream",
          "name": "stdout",
          "text": [
            "5\n",
            "John\n"
          ]
        }
      ]
    },
    {
      "cell_type": "markdown",
      "source": [
        "Latihan 4"
      ],
      "metadata": {
        "id": "TfKCVgJq7Aeo"
      }
    },
    {
      "cell_type": "code",
      "source": [
        "x = 4\n",
        "x = \"Sally\"\n",
        "print(x)"
      ],
      "metadata": {
        "colab": {
          "base_uri": "https://localhost:8080/"
        },
        "id": "2m4vKEgS7B4R",
        "outputId": "36258ea3-0a59-4c1e-b1bf-882eefbb9a87"
      },
      "execution_count": 5,
      "outputs": [
        {
          "output_type": "stream",
          "name": "stdout",
          "text": [
            "Sally\n"
          ]
        }
      ]
    },
    {
      "cell_type": "code",
      "source": [
        "def getFirst(myList):\n",
        "  return myList[0]\n",
        "  \n",
        "getFirst([1,2,3])"
      ],
      "metadata": {
        "colab": {
          "base_uri": "https://localhost:8080/"
        },
        "id": "4bz5aZ4Q7gmA",
        "outputId": "b4e55935-eb36-4412-8c06-ec61094da0a1"
      },
      "execution_count": 10,
      "outputs": [
        {
          "output_type": "execute_result",
          "data": {
            "text/plain": [
              "1"
            ]
          },
          "metadata": {},
          "execution_count": 10
        }
      ]
    },
    {
      "cell_type": "markdown",
      "source": [
        "Jika getFirst diperoleh dari myList[0], bagaimana memperoleh getSecond?"
      ],
      "metadata": {
        "id": "lxBQtlUI786X"
      }
    },
    {
      "cell_type": "code",
      "source": [
        "def getSecond(myList):\n",
        "  return myList[1]\n",
        "getSecond([1,2,3])\n",
        "\n",
        "#karena indeks dimulai dari 0 maka untuk mengambil nilai ke dua, jadi kita ambil indeks ke 1"
      ],
      "metadata": {
        "colab": {
          "base_uri": "https://localhost:8080/"
        },
        "id": "yLrYOmg-8H6Y",
        "outputId": "ed763194-d353-4476-9d21-f5db3da0ad9d"
      },
      "execution_count": 19,
      "outputs": [
        {
          "output_type": "execute_result",
          "data": {
            "text/plain": [
              "2"
            ]
          },
          "metadata": {},
          "execution_count": 19
        }
      ]
    },
    {
      "cell_type": "markdown",
      "source": [
        "Jika getFirst diperoleh dari myList[0], bagaimana memperoleh getLast(isi terakhir)?"
      ],
      "metadata": {
        "id": "1HKX-D2Q8q-9"
      }
    },
    {
      "cell_type": "code",
      "source": [
        "def getLast(myList):\n",
        "  return myList[-1]\n",
        "getLast([1,2,3])\n",
        "\n",
        "# untuk menampilkan nilai akhir dari suatu array kita menggunakan -1"
      ],
      "metadata": {
        "colab": {
          "base_uri": "https://localhost:8080/"
        },
        "id": "sE5I4T3u8xQ7",
        "outputId": "323c0c51-3e37-4c35-c8aa-480caa36508b"
      },
      "execution_count": 16,
      "outputs": [
        {
          "output_type": "execute_result",
          "data": {
            "text/plain": [
              "3"
            ]
          },
          "metadata": {},
          "execution_count": 16
        }
      ]
    },
    {
      "cell_type": "code",
      "source": [
        "def getSum(myList):\n",
        "  sum = 0\n",
        "  for item in myList:\n",
        "    sum = sum + item\n",
        "  return sum\n",
        "\n",
        "getSum([1,2,3,4,5])"
      ],
      "metadata": {
        "colab": {
          "base_uri": "https://localhost:8080/"
        },
        "id": "MYKYIJpm-UBz",
        "outputId": "2ef19556-7f90-4ee4-8f60-3b709d93c010"
      },
      "execution_count": 59,
      "outputs": [
        {
          "output_type": "execute_result",
          "data": {
            "text/plain": [
              "15"
            ]
          },
          "metadata": {},
          "execution_count": 59
        }
      ]
    },
    {
      "cell_type": "markdown",
      "source": [
        "getSum adalah perintah untuk mendapatkan hasil jumlah seluruh angka. Bagaimana jika kita membutuhkan fungsi getKali untuk mengalikan seluruh angka?"
      ],
      "metadata": {
        "id": "SMcbmnez-65E"
      }
    },
    {
      "cell_type": "code",
      "source": [
        "def getKali(myList):\n",
        "  kali = myList[0]\n",
        "  for item in myList:\n",
        "    kali *= item\n",
        "  return kali\n",
        "\n",
        "getKali([1,2,3,4,5])\n"
      ],
      "metadata": {
        "colab": {
          "base_uri": "https://localhost:8080/"
        },
        "id": "RkN5BLdZ_EPX",
        "outputId": "b65e6934-544b-4aa3-f3c8-64873a3d793e"
      },
      "execution_count": 80,
      "outputs": [
        {
          "output_type": "execute_result",
          "data": {
            "text/plain": [
              "120"
            ]
          },
          "metadata": {},
          "execution_count": 80
        }
      ]
    },
    {
      "cell_type": "markdown",
      "source": [
        "getSum adalah perintah untuk mendapatkan hasil jumlah seluruh angka. Bagaimana jika kita membutuhkan fungsi getBagi untuk membagikan angka?"
      ],
      "metadata": {
        "id": "laS1QPotFNbG"
      }
    },
    {
      "cell_type": "code",
      "source": [
        "def getBagi(myList):\n",
        "  bagi = myList[0]\n",
        "  for item in myList:\n",
        "    bagi /= item\n",
        "  return bagi\n",
        "\n",
        "getBagi([10,5])"
      ],
      "metadata": {
        "colab": {
          "base_uri": "https://localhost:8080/"
        },
        "id": "E4gf6ym9FWdh",
        "outputId": "e3a44429-d37c-497a-a734-18acb2b8a65e"
      },
      "execution_count": 79,
      "outputs": [
        {
          "output_type": "execute_result",
          "data": {
            "text/plain": [
              "0.2"
            ]
          },
          "metadata": {},
          "execution_count": 79
        }
      ]
    },
    {
      "cell_type": "code",
      "source": [
        "def getSum(myList):\n",
        "  sum = 0\n",
        "  for row in myList:\n",
        "    for item in row:\n",
        "      sum += item\n",
        "  return sum\n",
        "\n",
        "getSum([[1,2,3],[4,5,6]])"
      ],
      "metadata": {
        "colab": {
          "base_uri": "https://localhost:8080/"
        },
        "id": "eeVmPd7hHebq",
        "outputId": "0c5640e4-430e-43d1-e587-65d26c93606c"
      },
      "execution_count": 50,
      "outputs": [
        {
          "output_type": "execute_result",
          "data": {
            "text/plain": [
              "21"
            ]
          },
          "metadata": {},
          "execution_count": 50
        }
      ]
    },
    {
      "cell_type": "markdown",
      "source": [
        "Buatlah suatu fungsi untuk membagi 2 himpunan angka, jika getSum untuk menjumlahkan angka!"
      ],
      "metadata": {
        "id": "hMPFN1wUKEtG"
      }
    },
    {
      "cell_type": "code",
      "source": [
        "def getBagi(myList):\n",
        "  bagi = 10\n",
        "  for x in myList:\n",
        "    for y in x :\n",
        "       bagi /= y\n",
        "  return bagi\n",
        "\n",
        "getBagi([[2],[6]]) "
      ],
      "metadata": {
        "colab": {
          "base_uri": "https://localhost:8080/"
        },
        "id": "DJXouKoqIBKf",
        "outputId": "fd0246dc-efd3-4765-b929-66161df88474"
      },
      "execution_count": 93,
      "outputs": [
        {
          "output_type": "execute_result",
          "data": {
            "text/plain": [
              "0.8333333333333334"
            ]
          },
          "metadata": {},
          "execution_count": 93
        }
      ]
    },
    {
      "cell_type": "markdown",
      "source": [
        "Buatlah suatu fungsi untuk mengurangi 2 himpunan angka, jika getSum untuk menjumlahkan angka!"
      ],
      "metadata": {
        "id": "dONzO7JFKKLK"
      }
    },
    {
      "cell_type": "code",
      "source": [
        "def getKurang(myList):\n",
        "  kurang = 0\n",
        "  for x in myList:\n",
        "    for y in x:\n",
        "      kurang -= y\n",
        "  return kurang\n",
        "\n",
        "getKurang([[1,2,3],[4,5,6]])"
      ],
      "metadata": {
        "colab": {
          "base_uri": "https://localhost:8080/"
        },
        "id": "anjZK1U0KP4j",
        "outputId": "1f05c6f0-bf45-49cf-d4a2-8c13ce36484a"
      },
      "execution_count": 54,
      "outputs": [
        {
          "output_type": "execute_result",
          "data": {
            "text/plain": [
              "-21"
            ]
          },
          "metadata": {},
          "execution_count": 54
        }
      ]
    },
    {
      "cell_type": "code",
      "source": [
        "def serachBinary(myList, item):\n",
        "  first = 0\n",
        "  last = len(myList)-1\n",
        "  foundFlag = False\n",
        "  while(first<=last and not foundFlag):\n",
        "    mid = (first + last)//2\n",
        "    if myList[mid] == item:\n",
        "      foundFlag =True\n",
        "    else:\n",
        "      if item < myList[mid]:\n",
        "        last = mid -1\n",
        "      else:\n",
        "        first = mid +1\n",
        "  return foundFlag\n",
        "\n",
        "serachBinary([8,9,10,100,1000,2000],10)"
      ],
      "metadata": {
        "colab": {
          "base_uri": "https://localhost:8080/"
        },
        "id": "G0IHH7B7Mevn",
        "outputId": "714a1926-52f2-4498-e432-59aa4366c797"
      },
      "execution_count": 58,
      "outputs": [
        {
          "output_type": "execute_result",
          "data": {
            "text/plain": [
              "True"
            ]
          },
          "metadata": {},
          "execution_count": 58
        }
      ]
    }
  ]
}