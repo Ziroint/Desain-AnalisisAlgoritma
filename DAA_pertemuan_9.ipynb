{
  "nbformat": 4,
  "nbformat_minor": 0,
  "metadata": {
    "colab": {
      "provenance": [],
      "authorship_tag": "ABX9TyPLZRIIGP3ZEoig9RhLJIR7",
      "include_colab_link": true
    },
    "kernelspec": {
      "name": "python3",
      "display_name": "Python 3"
    },
    "language_info": {
      "name": "python"
    }
  },
  "cells": [
    {
      "cell_type": "markdown",
      "metadata": {
        "id": "view-in-github",
        "colab_type": "text"
      },
      "source": [
        "<a href=\"https://colab.research.google.com/github/Ziroint/Desain-AnalisisAlgoritma/blob/main/DAA_pertemuan_9.ipynb\" target=\"_parent\"><img src=\"https://colab.research.google.com/assets/colab-badge.svg\" alt=\"Open In Colab\"/></a>"
      ]
    },
    {
      "cell_type": "code",
      "execution_count": 2,
      "metadata": {
        "id": "_U7cWP1Gy2-k"
      },
      "outputs": [],
      "source": [
        "import numpy as np\n",
        "import networkx as nx\n",
        "import matplotlib.pyplot as plt\n",
        "%matplotlib inline"
      ]
    },
    {
      "cell_type": "code",
      "source": [
        "myWeb = nx.DiGraph()\n",
        "myPages = range(1,5)"
      ],
      "metadata": {
        "id": "tzBhbYf002oS"
      },
      "execution_count": 29,
      "outputs": []
    },
    {
      "cell_type": "code",
      "source": [
        "connections = [(1,3),(2,1),(2,3),(3,1),(3,2),(3,4),(4,5),(5,1),(5,4)]\n",
        "myWeb.add_nodes_from(myPages)\n",
        "myWeb.add_edges_from(connections)"
      ],
      "metadata": {
        "id": "5Sqluwun1N35"
      },
      "execution_count": 30,
      "outputs": []
    },
    {
      "cell_type": "code",
      "source": [
        "pos = nx.shell_layout(myWeb)\n",
        "nx.draw(myWeb, pos, arrows = True, with_labels = True)\n",
        "plt.show()"
      ],
      "metadata": {
        "colab": {
          "base_uri": "https://localhost:8080/",
          "height": 319
        },
        "id": "9lzpAi5L4CdW",
        "outputId": "2e038929-0cd7-4fd5-dbb5-f661d6d94c12"
      },
      "execution_count": 31,
      "outputs": [
        {
          "output_type": "display_data",
          "data": {
            "text/plain": [
              "<Figure size 432x288 with 1 Axes>"
            ],
            "image/png": "[encoded data removed]"
          },
          "metadata": {}
        }
      ]
    },
    {
      "cell_type": "code",
      "source": [
        "def createPageRank(aGraph):\n",
        "  nodes_set = len(aGraph)\n",
        "  M = nx.to_numpy_matrix(aGraph)\n",
        "  outwards = np.squeeze(np.asarray(np.sum(M,axis=1)))\n",
        "  prob_outwards = np.array(\n",
        "      [1.0/count\n",
        "      if count>0 else 0.0 for count in outwards])\n",
        "  G = np.asarray(np.multiply(M.T, prob_outwards))\n",
        "  p = np.ones(nodes_set)/float(nodes_set)\n",
        "  if np.min(np.sum(G,axis =0))<1.0:\n",
        "    print('WARN: G is substochastic')\n",
        "\n",
        "  return G,p"
      ],
      "metadata": {
        "id": "okvjiRFA5TFj"
      },
      "execution_count": 18,
      "outputs": []
    },
    {
      "cell_type": "code",
      "source": [
        "G,p = createPageRank(myWeb)\n",
        "print(G)"
      ],
      "metadata": {
        "colab": {
          "base_uri": "https://localhost:8080/"
        },
        "id": "yPoAWYsx79Lg",
        "outputId": "00fba649-62ac-4978-a77c-27de1e77ef70"
      },
      "execution_count": 19,
      "outputs": [
        {
          "output_type": "stream",
          "name": "stdout",
          "text": [
            "[[0.         0.5        0.33333333 0.         0.5       ]\n",
            " [0.         0.         0.33333333 0.         0.        ]\n",
            " [1.         0.5        0.         0.         0.        ]\n",
            " [0.         0.         0.33333333 0.         0.5       ]\n",
            " [0.         0.         0.         1.         0.        ]]\n"
          ]
        }
      ]
    },
    {
      "cell_type": "markdown",
      "source": [
        "Tugas 1"
      ],
      "metadata": {
        "id": "QlmUi1NKEzU_"
      }
    },
    {
      "cell_type": "code",
      "source": [
        "myWeb2 = nx.DiGraph()\n",
        "myPages2 = range(1,6)\n",
        "\n",
        "conect = [(1,2),(2,3),(3,4),(4,5),(5,6)]\n",
        "myWeb2.add_nodes_from(myPages2, color='Green')\n",
        "myWeb2.add_edges_from(conect, color='Blue')\n",
        "\n",
        "pos2 = nx.spring_layout(myWeb2, seed = 210)\n",
        "nx.draw(myWeb2, pos2, arrows = True, with_labels = True, node_color ='Blue', edge_color ='Red')\n",
        "plt.show()\n",
        "\n",
        "G,p = createPageRank(myWeb2)\n",
        "print(G)"
      ],
      "metadata": {
        "colab": {
          "base_uri": "https://localhost:8080/",
          "height": 440
        },
        "id": "Nu2NqGUJ8E-6",
        "outputId": "d8ec3cde-6c86-4f66-ba3e-d92f6dd84605"
      },
      "execution_count": 124,
      "outputs": [
        {
          "output_type": "display_data",
          "data": {
            "text/plain": [
              "<Figure size 432x288 with 1 Axes>"
            ],
            "image/png": "[encoded data removed]"
          },
          "metadata": {}
        },
        {
          "output_type": "stream",
          "name": "stdout",
          "text": [
            "WARN: G is substochastic\n",
            "[[0. 0. 0. 0. 0. 0.]\n",
            " [1. 0. 0. 0. 0. 0.]\n",
            " [0. 1. 0. 0. 0. 0.]\n",
            " [0. 0. 1. 0. 0. 0.]\n",
            " [0. 0. 0. 1. 0. 0.]\n",
            " [0. 0. 0. 0. 1. 0.]]\n"
          ]
        }
      ]
    },
    {
      "cell_type": "markdown",
      "source": [
        "Tugas 2"
      ],
      "metadata": {
        "id": "B96baLLcFMac"
      }
    },
    {
      "cell_type": "code",
      "source": [
        "myWeb3 = nx.DiGraph()\n",
        "node3 = range(1,5)\n",
        "\n",
        "conect2 = [(1,2),(2,3),(3,4),(4,5),(5,1)]\n",
        "myWeb3.add_nodes_from(node3)\n",
        "myWeb3.add_edges_from(conect2)\n",
        "\n",
        "pos3 = nx.shell_layout(myWeb3)\n",
        "nx.draw(myWeb3, pos3, arrows = True, with_labels = True, node_color ='Blue', edge_color ='Red')\n",
        "plt.show()\n",
        "\n",
        "G,p = createPageRank(myWeb3)\n",
        "print(G)"
      ],
      "metadata": {
        "colab": {
          "base_uri": "https://localhost:8080/",
          "height": 406
        },
        "id": "oayzPE0FFIaf",
        "outputId": "cd4bcfac-b909-415d-cab3-595ed2f57208"
      },
      "execution_count": 121,
      "outputs": [
        {
          "output_type": "display_data",
          "data": {
            "text/plain": [
              "<Figure size 432x288 with 1 Axes>"
            ],
            "image/png": "[encoded data removed]"
          },
          "metadata": {}
        },
        {
          "output_type": "stream",
          "name": "stdout",
          "text": [
            "[[0. 0. 0. 0. 1.]\n",
            " [1. 0. 0. 0. 0.]\n",
            " [0. 1. 0. 0. 0.]\n",
            " [0. 0. 1. 0. 0.]\n",
            " [0. 0. 0. 1. 0.]]\n"
          ]
        }
      ]
    },
    {
      "cell_type": "markdown",
      "source": [
        "Tugas 3"
      ],
      "metadata": {
        "id": "yvAgw348If9I"
      }
    },
    {
      "cell_type": "code",
      "source": [
        "myWeb4 = nx.DiGraph()\n",
        "node4 = range(1,5)\n",
        "\n",
        "conect3 = [(1,2),(2,1),(2,3),(3,2),(3,4),[4,3]]\n",
        "myWeb4.add_nodes_from(node4)\n",
        "myWeb4.add_edges_from(conect3)\n",
        "\n",
        "pos3 = nx.spring_layout(myWeb4,seed=60)\n",
        "nx.draw(myWeb4, pos3, arrows = True, with_labels = True, node_color='Blue', edge_color ='Red')\n",
        "plt.show()\n",
        "\n",
        "G,p = createPageRank(myWeb4)\n",
        "print(G)"
      ],
      "metadata": {
        "colab": {
          "base_uri": "https://localhost:8080/",
          "height": 388
        },
        "id": "uxQsAZ5MIZXd",
        "outputId": "81cb2db6-9a00-400f-db6e-9291d84883e7"
      },
      "execution_count": 122,
      "outputs": [
        {
          "output_type": "display_data",
          "data": {
            "text/plain": [
              "<Figure size 432x288 with 1 Axes>"
            ],
            "image/png": "[encoded data removed]"
          },
          "metadata": {}
        },
        {
          "output_type": "stream",
          "name": "stdout",
          "text": [
            "[[0.  0.5 0.  0. ]\n",
            " [1.  0.  0.5 0. ]\n",
            " [0.  0.5 0.  1. ]\n",
            " [0.  0.  0.5 0. ]]\n"
          ]
        }
      ]
    },
    {
      "cell_type": "markdown",
      "source": [
        "Tugas 4"
      ],
      "metadata": {
        "id": "qknOroLMNV3P"
      }
    },
    {
      "cell_type": "code",
      "source": [
        "myWeb5 = nx.DiGraph()\n",
        "node5 = range(1,6)\n",
        "\n",
        "conect3 = [(1,2),(2,3),(3,4),(4,5),(5,6),(6,1)]\n",
        "myWeb5.add_nodes_from(node5)\n",
        "myWeb5.add_edges_from(conect3)\n",
        "\n",
        "pos3 = nx.shell_layout(myWeb5)\n",
        "nx.draw(myWeb5, pos3, arrows = True, with_labels = True, node_color='Blue', edge_color ='Red')\n",
        "plt.show()\n",
        "\n",
        "G,p = createPageRank(myWeb5)\n",
        "print(G)"
      ],
      "metadata": {
        "colab": {
          "base_uri": "https://localhost:8080/",
          "height": 423
        },
        "id": "U3m901THNRyL",
        "outputId": "7cae81d4-ddca-4aa8-d28f-5ae3700cdcb8"
      },
      "execution_count": 140,
      "outputs": [
        {
          "output_type": "display_data",
          "data": {
            "text/plain": [
              "<Figure size 432x288 with 1 Axes>"
            ],
            "image/png": "[encoded data removed]"
          },
          "metadata": {}
        },
        {
          "output_type": "stream",
          "name": "stdout",
          "text": [
            "[[0. 0. 0. 0. 0. 1.]\n",
            " [1. 0. 0. 0. 0. 0.]\n",
            " [0. 1. 0. 0. 0. 0.]\n",
            " [0. 0. 1. 0. 0. 0.]\n",
            " [0. 0. 0. 1. 0. 0.]\n",
            " [0. 0. 0. 0. 1. 0.]]\n"
          ]
        }
      ]
    },
    {
      "cell_type": "markdown",
      "source": [
        "Tugas 5"
      ],
      "metadata": {
        "id": "CG0KMQ_rPjC2"
      }
    },
    {
      "cell_type": "code",
      "source": [
        "myWeb6 = nx.DiGraph()\n",
        "node6 = range(1,4)\n",
        "\n",
        "conect4 = [(1,2),(2,1),(2,3),(3,2),(3,4),(4,3),(4,1)]\n",
        "myWeb6.add_nodes_from(node6)\n",
        "myWeb6.add_edges_from(conect4)\n",
        "\n",
        "pos3 = nx.shell_layout(myWeb6, rotate=36)\n",
        "nx.draw(myWeb6, pos3, arrows = True, with_labels = True, node_color='Blue', edge_color ='Red')\n",
        "plt.show()\n",
        "\n",
        "G,p = createPageRank(myWeb6)\n",
        "print(G)"
      ],
      "metadata": {
        "colab": {
          "base_uri": "https://localhost:8080/",
          "height": 388
        },
        "id": "V9ur45DcNo10",
        "outputId": "9c8dda0c-5fdd-459d-c740-2929a51c3ff4"
      },
      "execution_count": 198,
      "outputs": [
        {
          "output_type": "display_data",
          "data": {
            "text/plain": [
              "<Figure size 432x288 with 1 Axes>"
            ],
            "image/png": "[encoded data removed]"
          },
          "metadata": {}
        },
        {
          "output_type": "stream",
          "name": "stdout",
          "text": [
            "[[0.  0.5 0.  0.5]\n",
            " [1.  0.  0.5 0. ]\n",
            " [0.  0.5 0.  0.5]\n",
            " [0.  0.  0.5 0. ]]\n"
          ]
        }
      ]
    },
    {
      "cell_type": "markdown",
      "source": [
        "Tugas 6"
      ],
      "metadata": {
        "id": "h_yq1GVdQxWh"
      }
    },
    {
      "cell_type": "code",
      "source": [
        "myWeb7 = nx.DiGraph()\n",
        "node7 = range(1,4)\n",
        "\n",
        "conect5 = [(1,2),(2,3),(3,4),(4,1),(4,5),(5,1)]\n",
        "myWeb7.add_nodes_from(node7)\n",
        "myWeb7.add_edges_from(conect5)\n",
        "\n",
        "pos3 = nx.spring_layout(myWeb7, seed = 80)\n",
        "nx.draw(myWeb7, pos3, arrows = True, with_labels = True, node_color='Blue', edge_color ='Red')\n",
        "plt.show()\n",
        "\n",
        "G,p = createPageRank(myWeb7)\n",
        "print(G)"
      ],
      "metadata": {
        "colab": {
          "base_uri": "https://localhost:8080/",
          "height": 406
        },
        "id": "5BOUK40hQCZ2",
        "outputId": "8e162e9b-fc31-4fdd-e10b-3de2ede3ec24"
      },
      "execution_count": 186,
      "outputs": [
        {
          "output_type": "display_data",
          "data": {
            "text/plain": [
              "<Figure size 432x288 with 1 Axes>"
            ],
            "image/png": "[encoded data removed]"
          },
          "metadata": {}
        },
        {
          "output_type": "stream",
          "name": "stdout",
          "text": [
            "[[0.  0.  0.  0.5 1. ]\n",
            " [1.  0.  0.  0.  0. ]\n",
            " [0.  1.  0.  0.  0. ]\n",
            " [0.  0.  1.  0.  0. ]\n",
            " [0.  0.  0.  0.5 0. ]]\n"
          ]
        }
      ]
    },
    {
      "cell_type": "markdown",
      "source": [
        "Tugas 7"
      ],
      "metadata": {
        "id": "xC_ybnLqTJHi"
      }
    },
    {
      "cell_type": "code",
      "source": [
        "myTes = nx.DiGraph()\n",
        "node_tes = range(1,7)\n",
        "\n",
        "hubung = [(1,2),(2,3),(2,5),(2,6),(3,4),(3,6),(4,1),(4,5),(5,2),(5,3),(6,1),(6,3),(6,5)]\n",
        "myTes.add_nodes_from(node_tes)\n",
        "myTes.add_edges_from(hubung)\n",
        "\n",
        "arah = nx.shell_layout(myTes)\n",
        "nx.draw(myTes, arah, arrows = True, with_labels = True, node_color='Blue', edge_color ='Red')\n",
        "plt.show()\n",
        "\n",
        "G,p = createPageRank(myTes)\n",
        "print(G)"
      ],
      "metadata": {
        "colab": {
          "base_uri": "https://localhost:8080/",
          "height": 423
        },
        "id": "upziy43jRIAg",
        "outputId": "adf061de-3bcb-4498-c528-cd3417a0cafe"
      },
      "execution_count": 265,
      "outputs": [
        {
          "output_type": "display_data",
          "data": {
            "text/plain": [
              "<Figure size 432x288 with 1 Axes>"
            ],
            "image/png": "[encoded data removed]"
          },
          "metadata": {}
        },
        {
          "output_type": "stream",
          "name": "stdout",
          "text": [
            "[[0.         0.         0.         0.5        0.         0.33333333]\n",
            " [1.         0.         0.         0.         0.5        0.        ]\n",
            " [0.         0.33333333 0.         0.         0.5        0.33333333]\n",
            " [0.         0.         0.5        0.         0.         0.        ]\n",
            " [0.         0.33333333 0.         0.5        0.         0.33333333]\n",
            " [0.         0.33333333 0.5        0.         0.         0.        ]]\n"
          ]
        }
      ]
    },
    {
      "cell_type": "code",
      "source": [],
      "metadata": {
        "id": "JxvhO9cyeFm4"
      },
      "execution_count": null,
      "outputs": []
    }
  ]
}