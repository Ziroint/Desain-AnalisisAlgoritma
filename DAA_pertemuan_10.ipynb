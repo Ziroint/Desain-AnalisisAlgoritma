{
  "nbformat": 4,
  "nbformat_minor": 0,
  "metadata": {
    "colab": {
      "provenance": [],
      "authorship_tag": "ABX9TyMqCgjcuo6hx2LyWpGgclm2",
      "include_colab_link": true
    },
    "kernelspec": {
      "name": "python3",
      "display_name": "Python 3"
    },
    "language_info": {
      "name": "python"
    }
  },
  "cells": [
    {
      "cell_type": "markdown",
      "metadata": {
        "id": "view-in-github",
        "colab_type": "text"
      },
      "source": [
        "<a href=\"https://colab.research.google.com/github/Ziroint/Desain-AnalisisAlgoritma/blob/main/DAA_pertemuan_10.ipynb\" target=\"_parent\"><img src=\"https://colab.research.google.com/assets/colab-badge.svg\" alt=\"Open In Colab\"/></a>"
      ]
    },
    {
      "cell_type": "code",
      "execution_count": 3,
      "metadata": {
        "colab": {
          "base_uri": "https://localhost:8080/"
        },
        "id": "teQ7kWshuGEC",
        "outputId": "7e020630-215e-49ca-8cfe-d16fdfa8b484"
      },
      "outputs": [
        {
          "output_type": "stream",
          "name": "stdout",
          "text": [
            "Looking in indexes: https://pypi.org/simple, https://us-python.pkg.dev/colab-wheels/public/simple/\n",
            "Collecting pulp\n",
            "  Downloading PuLP-2.6.0-py3-none-any.whl (14.2 MB)\n",
            "\u001b[K     |████████████████████████████████| 14.2 MB 8.0 MB/s \n",
            "\u001b[?25hInstalling collected packages: pulp\n",
            "Successfully installed pulp-2.6.0\n"
          ]
        }
      ],
      "source": [
        "!pip install pulp"
      ]
    },
    {
      "cell_type": "code",
      "source": [
        "import pulp"
      ],
      "metadata": {
        "id": "s5CfTUizuJT-"
      },
      "execution_count": 57,
      "outputs": []
    },
    {
      "cell_type": "code",
      "source": [
        "#Instantiate our problem class\n",
        "instance_profit_maximising_problem = pulp.LpProblem(\"ProfitMaximisingProblem\", pulp.LpMaximize)"
      ],
      "metadata": {
        "id": "d3ud-jbe1t0I"
      },
      "execution_count": 41,
      "outputs": []
    },
    {
      "cell_type": "code",
      "source": [
        "A = pulp.LpVariable('A', lowBound=0, cat='Integer')\n",
        "B = pulp.LpVariable('B', lowBound=0, cat='Integer')"
      ],
      "metadata": {
        "id": "mcXrbI3_2Qii"
      },
      "execution_count": 42,
      "outputs": []
    },
    {
      "cell_type": "code",
      "source": [
        "# Objective Function\n",
        "instance_profit_maximising_problem += 5000 * A + 2500 *B, \"Profit\"\n",
        "# Constraints\n",
        "instance_profit_maximising_problem += 3*A + 2*B <= 20\n",
        "instance_profit_maximising_problem += 4*A + 3*B <= 30\n",
        "instance_profit_maximising_problem += 4*A + 3*B <= 44"
      ],
      "metadata": {
        "id": "wY2mroIs2dgx"
      },
      "execution_count": 43,
      "outputs": []
    },
    {
      "cell_type": "code",
      "source": [
        "#solve our problem\n",
        "instance_profit_maximising_problem.solve()\n",
        "pulp.LpStatus[instance_profit_maximising_problem.status]"
      ],
      "metadata": {
        "colab": {
          "base_uri": "https://localhost:8080/",
          "height": 35
        },
        "id": "dWwj2aK23SqJ",
        "outputId": "2973cd2a-4ad6-4623-8b9e-7f6ba4231fca"
      },
      "execution_count": 44,
      "outputs": [
        {
          "output_type": "execute_result",
          "data": {
            "text/plain": [
              "'Optimal'"
            ],
            "application/vnd.google.colaboratory.intrinsic+json": {
              "type": "string"
            }
          },
          "metadata": {},
          "execution_count": 44
        }
      ]
    },
    {
      "cell_type": "code",
      "source": [
        "#print our decision variable values\n",
        "print(A.varValue)\n",
        "print(B.varValue)"
      ],
      "metadata": {
        "colab": {
          "base_uri": "https://localhost:8080/"
        },
        "id": "b4tA8eL33bja",
        "outputId": "853a0aeb-027f-4c69-af34-3e94a11b43d2"
      },
      "execution_count": 45,
      "outputs": [
        {
          "output_type": "stream",
          "name": "stdout",
          "text": [
            "6.0\n",
            "1.0\n"
          ]
        }
      ]
    },
    {
      "cell_type": "code",
      "source": [
        "#print out objective function value \n",
        "print(pulp.value(instance_profit_maximising_problem.objective))"
      ],
      "metadata": {
        "colab": {
          "base_uri": "https://localhost:8080/"
        },
        "id": "VP0NVBSA3oBr",
        "outputId": "69b9b013-653d-4d6a-a576-709310412eea"
      },
      "execution_count": 46,
      "outputs": [
        {
          "output_type": "stream",
          "name": "stdout",
          "text": [
            "32500.0\n"
          ]
        }
      ]
    },
    {
      "cell_type": "code",
      "source": [
        "x_dan_y = pulp.LpProblem(\"mencari nilai x dan y\", pulp.LpMaximize)\n",
        "\n",
        "X = pulp.LpVariable('X', lowBound=0, cat='Integer')\n",
        "Y = pulp.LpVariable('Y', lowBound=0, cat='Integer')\n",
        "\n",
        "x_dan_y += 4*X + 3*Y == 34\n",
        "x_dan_y += 5*X + Y == 37\n",
        "\n",
        "x_dan_y.solve()\n",
        "\n",
        "print(\"Nilai x: \", X.varValue)\n",
        "print(\"Nilai y: \", Y.varValue)\n"
      ],
      "metadata": {
        "colab": {
          "base_uri": "https://localhost:8080/"
        },
        "id": "CKaH6VYi32-e",
        "outputId": "5e5de69a-95d6-499b-d500-d2fab377f608"
      },
      "execution_count": 71,
      "outputs": [
        {
          "output_type": "stream",
          "name": "stdout",
          "text": [
            "Nilai x:  7.0\n",
            "Nilai y:  2.0\n"
          ]
        }
      ]
    },
    {
      "cell_type": "code",
      "source": [
        "#Budi membeli tiga pensil dan empat buku di toko Rana dengan harga Rp 11000,-. Jika Budi membeli lagi sebuah pensil dan tujuh buku ditoko yang sama dengan harga Rp 15000,-. Berapakah harga dua buah pensil dan enam buah buku jika Budi membeli kembali di toko Rana!\n",
        "\n",
        "#Definisikan pensil=p , buku =b.\n",
        "\n",
        "pensil_dan_buku = pulp.LpProblem(\"pensil dan buku\", pulp.LpMaximize)\n",
        "\n",
        "p = pulp.LpVariable('pensil', lowBound=0, cat='Integer')\n",
        "b = pulp.LpVariable('buku', lowBound=0, cat='Integer')\n",
        "\n",
        "pensil_dan_buku += 3*p + 4*b == 11000\n",
        "pensil_dan_buku += p + 7*b == 15000\n",
        "\n",
        "pensil_dan_buku.solve()\n",
        "\n",
        "pensil = p.varValue\n",
        "buku = b.varValue\n",
        "\n",
        "print(\"harga pensil: \", pensil)\n",
        "print(\"harga buku: \", buku)\n",
        "\n",
        "total_belanja = 2*pensil + 6*buku\n",
        "print(\"harga 2 pensil dan 6 buku: Rp \", total_belanja)"
      ],
      "metadata": {
        "colab": {
          "base_uri": "https://localhost:8080/"
        },
        "id": "AXIetkMLIIJK",
        "outputId": "bc4bba3b-843f-4b5f-afb5-e3fbda7ce4d7"
      },
      "execution_count": 73,
      "outputs": [
        {
          "output_type": "stream",
          "name": "stdout",
          "text": [
            "harga pensil:  1000.0\n",
            "harga buku:  2000.0\n",
            "harga 2 pensil dan 6 buku: Rp  14000.0\n"
          ]
        }
      ]
    },
    {
      "cell_type": "code",
      "source": [
        "# Keliling sebuah persegi panjang sama dengan 44 cm. Jika lebarnya 6 cm lebih pendek dari panjanganya, carilah panjang dan lebar dari persegi panjang tersebut.\n",
        "\n",
        "# kita definisikan panjang = pjg, lebar = lbr, keliling = k\n",
        "persegi_panjang = pulp.LpProblem(\"panjang dan lebar\", pulp.LpMaximize)\n",
        "\n",
        "pjg = pulp.LpVariable('panjang', lowBound=0, cat='Integer')\n",
        "lbr = pulp.LpVariable('lebar', lowBound=0, cat='Integer')\n",
        "\n",
        "persegi_panjang += 2*(pjg+lbr) == 44\n",
        "persegi_panjang += lbr == pjg-6\n",
        "\n",
        "persegi_panjang.solve()\n",
        "\n",
        "print(\"panjang: \", pjg.varValue)\n",
        "print(\"lebar: \", lbr.varValue)"
      ],
      "metadata": {
        "colab": {
          "base_uri": "https://localhost:8080/"
        },
        "id": "4dvtMVx8OERl",
        "outputId": "d9744fa4-fcea-4d0d-b797-909ffec1ff5c"
      },
      "execution_count": 78,
      "outputs": [
        {
          "output_type": "stream",
          "name": "stdout",
          "text": [
            "panjang:  14.0\n",
            "lebar:  8.0\n"
          ]
        }
      ]
    },
    {
      "cell_type": "markdown",
      "source": [
        "**Menggunakan Scipy**"
      ],
      "metadata": {
        "id": "Q3V_RozzWJrt"
      }
    },
    {
      "cell_type": "code",
      "source": [
        "#Import required Libraries\n",
        "import numpy as np\n",
        "from scipy.optimize import linprog\n",
        "from scipy import linalg"
      ],
      "metadata": {
        "id": "q_-I_V09Tlu1"
      },
      "execution_count": 90,
      "outputs": []
    },
    {
      "cell_type": "code",
      "source": [
        "#set the inequality constraints matrix\n",
        "#note: the inequality constraints must be in the form of <=\n",
        "\n",
        "A = np.array([[1,0],[2,3],[1,1],[-1,0],[0,-1]])"
      ],
      "metadata": {
        "id": "SAtXz4GfWXyT"
      },
      "execution_count": 80,
      "outputs": []
    },
    {
      "cell_type": "code",
      "source": [
        "#set the inequality constraints vector\n",
        "b = np.array([16,19,8,0,0])"
      ],
      "metadata": {
        "id": "xl2Ur9BeWoDy"
      },
      "execution_count": 81,
      "outputs": []
    },
    {
      "cell_type": "code",
      "source": [
        "# set the coefficients of the linear objective function vector\n",
        "# note: when maximizing, change the signs of the c vector coefficient\n",
        "\n",
        "c = np.array([-5,-7])"
      ],
      "metadata": {
        "id": "m2U4xSrzWyRP"
      },
      "execution_count": 82,
      "outputs": []
    },
    {
      "cell_type": "code",
      "source": [
        "#solve linear programming problem\n",
        "res = linprog(c,A_ub=A, b_ub=b)"
      ],
      "metadata": {
        "id": "hdLcZIgZW-vU"
      },
      "execution_count": 83,
      "outputs": []
    },
    {
      "cell_type": "code",
      "source": [
        "#Print results\n",
        "print('Optimal value:', round(res.fun*-1, ndigits=2),\n",
        "      '\\nx valus:', res.x,\n",
        "      '\\nNumber of iterations performed:', res.nit,\n",
        "      '\\nStatus:', res.message)"
      ],
      "metadata": {
        "colab": {
          "base_uri": "https://localhost:8080/"
        },
        "id": "Ye-vSjvsXGBT",
        "outputId": "79a95639-c86b-4469-9a24-495a42724ddb"
      },
      "execution_count": 84,
      "outputs": [
        {
          "output_type": "stream",
          "name": "stdout",
          "text": [
            "Optimal value: 46.0 \n",
            "x valus: [5. 3.] \n",
            "Number of iterations performed: 5 \n",
            "Status: Optimization terminated successfully.\n"
          ]
        }
      ]
    },
    {
      "cell_type": "code",
      "source": [
        "m = np.array([[4,12],[2,1]])\n",
        "n = np.array([28,21])\n",
        "\n",
        "res2 = linalg.solve(m,n)\n",
        "\n",
        "print(res2)"
      ],
      "metadata": {
        "colab": {
          "base_uri": "https://localhost:8080/"
        },
        "id": "lc3r5fGoXbF6",
        "outputId": "fcfb1c7b-45a7-4560-f33e-13d18a3634b5"
      },
      "execution_count": 91,
      "outputs": [
        {
          "output_type": "stream",
          "name": "stdout",
          "text": [
            "[11.2 -1.4]\n"
          ]
        }
      ]
    },
    {
      "cell_type": "code",
      "source": [
        "# Lisa dan Muri bekerja pada pabrik tas. Lisa dapat menyelesaikan 3 buah tas setiap jam dan Muri dapat menyelesaikan 4 tas setiap jam. Jumlah jam kerja Lisa dan Muri adalah 16 jam sehari dengan jumlah tas yang dibuat oleh keduanya adalah 55 tas. Jika jam kerja keduanya berbeda, tentukan jam kerja mereka masing-masing.\n",
        "\n",
        "tas = np.array([[3, 4], [1, 1], [-1, 0], [0, -1]])\n",
        "jam = np.array([55, 16, 0, 0])\n",
        "c = np.array([-7, -9])\n",
        "res3 = linprog(c, A_ub=tas, b_ub=jam)\n",
        "\n",
        "print('Optimal value:', round(res3.fun*-1, ndigits=2), \n",
        "      '\\nx values:', res3.x,\n",
        "      '\\nNumber of iterations performed:', res3.nit,\n",
        "      '\\nStatus:', res3.message)"
      ],
      "metadata": {
        "colab": {
          "base_uri": "https://localhost:8080/"
        },
        "id": "7Yg_2NFBm2l9",
        "outputId": "e4c26584-22da-4259-da4f-3593eda6dd87"
      },
      "execution_count": 93,
      "outputs": [
        {
          "output_type": "stream",
          "name": "stdout",
          "text": [
            "Optimal value: 126.0 \n",
            "x values: [9. 7.] \n",
            "Number of iterations performed: 5 \n",
            "Status: Optimization terminated successfully.\n"
          ]
        }
      ]
    }
  ]
}