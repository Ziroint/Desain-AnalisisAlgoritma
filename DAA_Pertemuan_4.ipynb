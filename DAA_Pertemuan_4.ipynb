{
  "cells": [
    {
      "cell_type": "markdown",
      "metadata": {
        "id": "view-in-github",
        "colab_type": "text"
      },
      "source": [
        "<a href=\"https://colab.research.google.com/github/Ziroint/Desain-AnalisisAlgoritma/blob/main/DAA_Pertemuan_4.ipynb\" target=\"_parent\"><img src=\"https://colab.research.google.com/assets/colab-badge.svg\" alt=\"Open In Colab\"/></a>"
      ]
    },
    {
      "cell_type": "markdown",
      "metadata": {
        "id": "ouztVYcw9lXS"
      },
      "source": [
        "Catatan"
      ]
    },
    {
      "cell_type": "code",
      "execution_count": 161,
      "metadata": {
        "colab": {
          "base_uri": "https://localhost:8080/"
        },
        "id": "LJO3K06Y9hDG",
        "outputId": "5839e3c4-28fc-4d2c-a786-48a4925d1103"
      },
      "outputs": [
        {
          "output_type": "stream",
          "name": "stdout",
          "text": [
            "2 1\n"
          ]
        }
      ],
      "source": [
        "#swap function\n",
        "var1 = 1\n",
        "var2 = 2\n",
        "var1,var2 = var2,var1\n",
        "print(var1,var2)"
      ]
    },
    {
      "cell_type": "markdown",
      "metadata": {
        "id": "FaIdAi8i99XL"
      },
      "source": [
        "Latihan!\n",
        "Buat fungsi swap dengan menambahkan variabel ketiga bernama var3!"
      ]
    },
    {
      "cell_type": "code",
      "execution_count": 107,
      "metadata": {
        "colab": {
          "base_uri": "https://localhost:8080/"
        },
        "id": "rAiyy7Ou-Dky",
        "outputId": "ab04ce18-6127-4b94-9af8-fe4dee55c8d6"
      },
      "outputs": [
        {
          "output_type": "stream",
          "name": "stdout",
          "text": [
            "3 2 1\n"
          ]
        }
      ],
      "source": [
        "var1 = 1\n",
        "var2 = 2\n",
        "var3 = 3\n",
        "var1,var2,var3 = var3,var2,var1\n",
        "print(var1,var2,var3)"
      ]
    },
    {
      "cell_type": "markdown",
      "metadata": {
        "id": "Z2C0l_6_-Wp8"
      },
      "source": [
        "Catatan"
      ]
    },
    {
      "cell_type": "code",
      "execution_count": 108,
      "metadata": {
        "colab": {
          "base_uri": "https://localhost:8080/"
        },
        "id": "gaPN1QTz-Yi9",
        "outputId": "3b217698-d727-4650-a70c-3d9538c03e3c"
      },
      "outputs": [
        {
          "output_type": "stream",
          "name": "stdout",
          "text": [
            "0 [25, 21, 22, 24, 23, 27, 26]\n",
            "1 [21, 25, 22, 24, 23, 27, 26]\n",
            "2 [21, 22, 25, 24, 23, 27, 26]\n",
            "3 [21, 22, 24, 25, 23, 27, 26]\n",
            "4 [21, 22, 24, 23, 25, 27, 26]\n",
            "5 [21, 22, 24, 23, 25, 27, 26]\n",
            "6 [21, 22, 24, 23, 25, 26, 27]\n"
          ]
        }
      ],
      "source": [
        "list = [25,21,22,24,23,27,26]\n",
        "#proses penukaran bubble sort\n",
        "lastElementIndex = len(list)-1\n",
        "print(0,list)\n",
        "for idx in range(lastElementIndex):\n",
        "  if list[idx]>list[idx+1]:\n",
        "    list[idx],list[idx+1] = list[idx+1],list[idx]\n",
        "  print(idx+1,list)"
      ]
    },
    {
      "cell_type": "code",
      "execution_count": 109,
      "metadata": {
        "id": "Q_sMPs2I_C6B"
      },
      "outputs": [],
      "source": [
        "def BubbleSort(list):\n",
        "# Exchange the elements to arrange in order\n",
        "  lastElementIndex = len(list)-1\n",
        "  for passNo in range(lastElementIndex,0,-1):\n",
        "    for idx in range(passNo):\n",
        "      if list[idx]>list[idx+1]:\n",
        "        list[idx],list[idx+1]=list[idx+1],list[idx]\n",
        "  return list\n"
      ]
    },
    {
      "cell_type": "code",
      "execution_count": 110,
      "metadata": {
        "colab": {
          "base_uri": "https://localhost:8080/"
        },
        "id": "hut0qUTe_5Ij",
        "outputId": "29384b7c-7361-4ce3-f9ce-e5d014d826fc"
      },
      "outputs": [
        {
          "output_type": "execute_result",
          "data": {
            "text/plain": [
              "[21, 22, 23, 24, 25, 26, 27]"
            ]
          },
          "metadata": {},
          "execution_count": 110
        }
      ],
      "source": [
        "list = [25,21,22,24,23,27,26]\n",
        "\n",
        "BubbleSort(list)\n",
        "list"
      ]
    },
    {
      "cell_type": "markdown",
      "metadata": {
        "id": "PDcCGdbnAEJp"
      },
      "source": [
        "Latihan! \n",
        "Urutkan deret bilangan di bawah ini menggunakan metode sorting bubble sort!\n",
        "[100,20,60,90,40,30,10]"
      ]
    },
    {
      "cell_type": "code",
      "execution_count": 111,
      "metadata": {
        "colab": {
          "base_uri": "https://localhost:8080/"
        },
        "id": "GfkmqqEeAOtu",
        "outputId": "75f68bb9-3f3b-4182-8351-10f1bb706e2e"
      },
      "outputs": [
        {
          "output_type": "execute_result",
          "data": {
            "text/plain": [
              "[100, 20, 60, 90, 40, 30, 10]"
            ]
          },
          "metadata": {},
          "execution_count": 111
        }
      ],
      "source": [
        "def gelembung(urut):\n",
        "  elemenakhir = len(urut)-1\n",
        "  for x in range(elemenakhir,0,-1):\n",
        "    for y in range(x):\n",
        "      if urut[y]>urut[y+1]:\n",
        "        urut[y],urut[y+1]=urut[y+1],urut[y]\n",
        "  return urut\n",
        "\n",
        "urut = [100,20,60,90,40,30,10]\n",
        "\n",
        "urut"
      ]
    },
    {
      "cell_type": "code",
      "execution_count": 112,
      "metadata": {
        "colab": {
          "base_uri": "https://localhost:8080/"
        },
        "id": "6TeBCY8TChmZ",
        "outputId": "36082d19-a9aa-4592-dd78-a91f49256f2f"
      },
      "outputs": [
        {
          "output_type": "execute_result",
          "data": {
            "text/plain": [
              "[10, 20, 30, 40, 60, 90, 100]"
            ]
          },
          "metadata": {},
          "execution_count": 112
        }
      ],
      "source": [
        "gelembung(urut)"
      ]
    },
    {
      "cell_type": "markdown",
      "metadata": {
        "id": "bbH1Ymi_BdMd"
      },
      "source": [
        "Catatan\n",
        "Insertion Sort"
      ]
    },
    {
      "cell_type": "code",
      "execution_count": 113,
      "metadata": {
        "id": "evEs4HIzBfcA"
      },
      "outputs": [],
      "source": [
        "def InsertionSort(list):\n",
        "  for i in range(1,len(list)):\n",
        "    j = i-1\n",
        "    next = list[i]\n",
        "# compare the current element with next one\n",
        "    while(list[j]>next) and (j>=0):\n",
        "      list[j+1] = list[j]\n",
        "      j = j-1\n",
        "    list[j+1] = next\n",
        "  return list"
      ]
    },
    {
      "cell_type": "code",
      "execution_count": 114,
      "metadata": {
        "colab": {
          "base_uri": "https://localhost:8080/"
        },
        "id": "IyWZDqsrB_Pf",
        "outputId": "1342ef5a-cd05-436a-9039-4007ea0c9be2"
      },
      "outputs": [
        {
          "output_type": "execute_result",
          "data": {
            "text/plain": [
              "[35, 31, 32, 34, 33, 37, 36]"
            ]
          },
          "metadata": {},
          "execution_count": 114
        }
      ],
      "source": [
        "#masukkan angka dengan urutan lainnya\n",
        "\n",
        "list = [35,31,32,34,33,37,36]\n",
        "list"
      ]
    },
    {
      "cell_type": "code",
      "execution_count": 115,
      "metadata": {
        "colab": {
          "base_uri": "https://localhost:8080/"
        },
        "id": "-kjmMzMnCJ-s",
        "outputId": "46deb943-8eef-4a1c-e725-cebc4c0edf15"
      },
      "outputs": [
        {
          "output_type": "execute_result",
          "data": {
            "text/plain": [
              "[31, 32, 33, 34, 35, 36, 37]"
            ]
          },
          "metadata": {},
          "execution_count": 115
        }
      ],
      "source": [
        "InsertionSort(list)"
      ]
    },
    {
      "cell_type": "code",
      "execution_count": 116,
      "metadata": {
        "colab": {
          "base_uri": "https://localhost:8080/"
        },
        "id": "kyjVPV3PCXnj",
        "outputId": "a326c14e-fbe6-4aad-9640-5ed3e5638ba0"
      },
      "outputs": [
        {
          "output_type": "execute_result",
          "data": {
            "text/plain": [
              "[31, 32, 33, 34, 35, 36, 37]"
            ]
          },
          "metadata": {},
          "execution_count": 116
        }
      ],
      "source": [
        "list"
      ]
    },
    {
      "cell_type": "code",
      "execution_count": 117,
      "metadata": {
        "colab": {
          "base_uri": "https://localhost:8080/"
        },
        "id": "kikvi02IClU4",
        "outputId": "f2529f11-b3f6-4c69-ddfe-75414f2a07c8"
      },
      "outputs": [
        {
          "output_type": "stream",
          "name": "stdout",
          "text": [
            "[21, 22, 23, 24, 25, 26, 27]\n"
          ]
        }
      ],
      "source": [
        "list = [25,26,22,24,27,23,21]\n",
        "InsertionSort(list)\n",
        "print(list)"
      ]
    },
    {
      "cell_type": "markdown",
      "metadata": {
        "id": "HV_6bC2KC10Y"
      },
      "source": [
        "Latihan!\n",
        "Urutkan deret bilangan di bawah ini menggunakan metode sorting insertion sort!\n",
        "[89,12,57,16,25,11,75]"
      ]
    },
    {
      "cell_type": "code",
      "execution_count": 118,
      "metadata": {
        "id": "O91L9ZelC_tt"
      },
      "outputs": [],
      "source": [
        "def urutinsert(angka):\n",
        "  for x in range(1,len(angka)):\n",
        "    y = x-1\n",
        "    lanjut = angka[x]\n",
        "\n",
        "    while(angka[y]>lanjut) and (y >=0):\n",
        "      angka[y+1] = angka[y]\n",
        "      y = y-1\n",
        "    angka[y+1] = lanjut\n",
        "  return angka\n"
      ]
    },
    {
      "cell_type": "code",
      "execution_count": 119,
      "metadata": {
        "colab": {
          "base_uri": "https://localhost:8080/"
        },
        "id": "mRq3NPflDsKN",
        "outputId": "7593692c-5124-4963-d376-d3f07c5f82b6"
      },
      "outputs": [
        {
          "output_type": "execute_result",
          "data": {
            "text/plain": [
              "[89, 12, 57, 16, 25, 11, 75]"
            ]
          },
          "metadata": {},
          "execution_count": 119
        }
      ],
      "source": [
        "angka = [89,12,57,16,25,11,75]\n",
        "angka"
      ]
    },
    {
      "cell_type": "code",
      "execution_count": 120,
      "metadata": {
        "colab": {
          "base_uri": "https://localhost:8080/"
        },
        "id": "Z9SwAEz_FCxD",
        "outputId": "6ceffde1-f790-42c9-da77-c2f75bc69f06"
      },
      "outputs": [
        {
          "output_type": "execute_result",
          "data": {
            "text/plain": [
              "[11, 12, 16, 25, 57, 75, 89]"
            ]
          },
          "metadata": {},
          "execution_count": 120
        }
      ],
      "source": [
        "urutinsert(angka)\n",
        "angka"
      ]
    },
    {
      "cell_type": "markdown",
      "metadata": {
        "id": "ZurQvzLiFlT5"
      },
      "source": [
        "Catatan"
      ]
    },
    {
      "cell_type": "code",
      "execution_count": 121,
      "metadata": {
        "id": "sBvy3g-jFnht"
      },
      "outputs": [],
      "source": [
        "def SelectionSort(list):\n",
        "  for fill_slot in range(len(list)-1,0,-1):\n",
        "    max_index = 0\n",
        "    for location in range(1, fill_slot +1):\n",
        "      if list[location]>list[max_index]:\n",
        "        max_index = location\n",
        "    list[fill_slot],list[max_index] = list[max_index],list[fill_slot]\n",
        "  return list"
      ]
    },
    {
      "cell_type": "code",
      "execution_count": 122,
      "metadata": {
        "colab": {
          "base_uri": "https://localhost:8080/"
        },
        "id": "N8MT0MgBGL2K",
        "outputId": "2bc4a0d5-1dc4-42e8-e469-fe6d63dcbbcd"
      },
      "outputs": [
        {
          "output_type": "execute_result",
          "data": {
            "text/plain": [
              "[15, 19, 25, 34, 44, 70]"
            ]
          },
          "metadata": {},
          "execution_count": 122
        }
      ],
      "source": [
        "list = [70,15,25,19,34,44]\n",
        "SelectionSort(list)"
      ]
    },
    {
      "cell_type": "code",
      "execution_count": 123,
      "metadata": {
        "colab": {
          "base_uri": "https://localhost:8080/"
        },
        "id": "1onJmGtvGTKG",
        "outputId": "a765f35e-e8de-46bf-ece3-3d68ba4e171b"
      },
      "outputs": [
        {
          "output_type": "execute_result",
          "data": {
            "text/plain": [
              "[15, 19, 25, 34, 44, 70]"
            ]
          },
          "metadata": {},
          "execution_count": 123
        }
      ],
      "source": [
        "list"
      ]
    },
    {
      "cell_type": "code",
      "execution_count": 124,
      "metadata": {
        "colab": {
          "base_uri": "https://localhost:8080/"
        },
        "id": "w7AnD8LYGTrC",
        "outputId": "edf62387-64ec-481d-f558-b55a839dbd8c"
      },
      "outputs": [
        {
          "output_type": "stream",
          "name": "stdout",
          "text": [
            "[15, 19, 25, 34, 44, 70]\n"
          ]
        }
      ],
      "source": [
        "list = [70,15,25,19,34,44]\n",
        "SelectionSort(list)\n",
        "print(list)"
      ]
    },
    {
      "cell_type": "markdown",
      "metadata": {
        "id": "Rrq-TgSTGfFf"
      },
      "source": [
        "Latihan!\n",
        "Tentukan prosedur pengurutan deret secara ascending menggunakan metode sorting selection sort!\n",
        "[89,12,57,16,25]"
      ]
    },
    {
      "cell_type": "code",
      "execution_count": 125,
      "metadata": {
        "id": "CtpQAgiyGqU1"
      },
      "outputs": [],
      "source": [
        "def seleksi(urutan):\n",
        "  for x in range(len(urutan)-1,0,-1):\n",
        "    y = 0\n",
        "    for z in range(1, x +1):\n",
        "      if urutan[z]>urutan[y]:\n",
        "        y = z\n",
        "    urutan[x],urutan[y] = urutan[y],urutan[x]\n",
        "  return urutan"
      ]
    },
    {
      "cell_type": "code",
      "execution_count": 126,
      "metadata": {
        "colab": {
          "base_uri": "https://localhost:8080/"
        },
        "id": "Qna5sXGVHNiK",
        "outputId": "fd8afdaa-7835-4cdc-d7ae-9a3ef7388ab5"
      },
      "outputs": [
        {
          "output_type": "execute_result",
          "data": {
            "text/plain": [
              "[89, 12, 57, 16, 25]"
            ]
          },
          "metadata": {},
          "execution_count": 126
        }
      ],
      "source": [
        "urutan = [89,12,57,16,25]\n",
        "urutan"
      ]
    },
    {
      "cell_type": "code",
      "execution_count": 127,
      "metadata": {
        "colab": {
          "base_uri": "https://localhost:8080/"
        },
        "id": "R8yIToxNHUb7",
        "outputId": "54e95a91-0cd0-4302-d5dc-a4a3b4e8993f"
      },
      "outputs": [
        {
          "output_type": "execute_result",
          "data": {
            "text/plain": [
              "[12, 16, 25, 57, 89]"
            ]
          },
          "metadata": {},
          "execution_count": 127
        }
      ],
      "source": [
        "seleksi(urutan)"
      ]
    },
    {
      "cell_type": "markdown",
      "metadata": {
        "id": "mTHrfNQeJOZT"
      },
      "source": [
        "Catatan Linear Search"
      ]
    },
    {
      "cell_type": "code",
      "execution_count": 128,
      "metadata": {
        "id": "GRVVzfcEJRrz"
      },
      "outputs": [],
      "source": [
        "def LinearSearch(list,item):\n",
        "  index = 0\n",
        "  found = False\n",
        "\n",
        "#match the value with each data element\n",
        "  while index < len(list) and found is False:\n",
        "    if list[index] == item:\n",
        "      found = True\n",
        "    else:\n",
        "      index = index +1\n",
        "  return found"
      ]
    },
    {
      "cell_type": "code",
      "execution_count": 129,
      "metadata": {
        "colab": {
          "base_uri": "https://localhost:8080/"
        },
        "id": "U8e3eTSPJnbt",
        "outputId": "0cfc9b49-8c7f-407c-d685-7b4deb4e55bd"
      },
      "outputs": [
        {
          "output_type": "stream",
          "name": "stdout",
          "text": [
            "True\n",
            "False\n"
          ]
        }
      ],
      "source": [
        "list = [12,33,11,99,22,55,90]\n",
        "print(LinearSearch(list,12))\n",
        "print(LinearSearch(list,91))"
      ]
    },
    {
      "cell_type": "markdown",
      "metadata": {
        "id": "fEAD7erzJ0on"
      },
      "source": [
        "Latihan!\n",
        "Cari \"a\" dari deret huruf di bawah ini menggunakan metode searching linear\n",
        "[y,u,i,w,o,a,q,u,j,p]"
      ]
    },
    {
      "cell_type": "code",
      "execution_count": 130,
      "metadata": {
        "id": "J8jaEOT3KC7P"
      },
      "outputs": [],
      "source": [
        "def cari(urut,item):\n",
        "  idx = 0\n",
        "  found = False\n",
        "\n",
        "#match the value with each data element\n",
        "  while idx < len(urut) and found is False:\n",
        "    if urut[idx] == item:\n",
        "      found = True\n",
        "    else:\n",
        "      idx = idx +1\n",
        "  return found"
      ]
    },
    {
      "cell_type": "code",
      "execution_count": 131,
      "metadata": {
        "colab": {
          "base_uri": "https://localhost:8080/"
        },
        "id": "vq_GLCj1KZ5j",
        "outputId": "d07dc28c-a161-49a2-e8ab-868941261041"
      },
      "outputs": [
        {
          "output_type": "stream",
          "name": "stdout",
          "text": [
            "True\n"
          ]
        }
      ],
      "source": [
        "urut = [\"y\",\"u\",\"i\",\"w\",\"o\",\"a\",\"q\",\"u\",\"j\",\"p\"]\n",
        "print(cari(urut,\"a\"))"
      ]
    },
    {
      "cell_type": "markdown",
      "metadata": {
        "id": "Zes5h7pcLEpn"
      },
      "source": [
        "Catatan"
      ]
    },
    {
      "cell_type": "code",
      "execution_count": 132,
      "metadata": {
        "id": "kc-0nOhPLGho"
      },
      "outputs": [],
      "source": [
        "def BinarySearch(list,item):\n",
        "  first = 0\n",
        "  last = len(list)-1\n",
        "  found = False\n",
        "\n",
        "  while first<=last and not found:\n",
        "    midpoint = (first + last)//2\n",
        "    if list[midpoint] == item:\n",
        "      found = True\n",
        "    else:\n",
        "      if item < list[midpoint]:\n",
        "        last = midpoint - 1\n",
        "      else:\n",
        "        first = midpoint +1\n",
        "  return found"
      ]
    },
    {
      "cell_type": "code",
      "execution_count": 133,
      "metadata": {
        "colab": {
          "base_uri": "https://localhost:8080/"
        },
        "id": "WTcZaG1wLuws",
        "outputId": "91b94e6c-112e-4ed5-ff92-2226acddafa0"
      },
      "outputs": [
        {
          "output_type": "stream",
          "name": "stdout",
          "text": [
            "True\n",
            "False\n"
          ]
        }
      ],
      "source": [
        "list = [12,33,11,99,22,55,90]\n",
        "sorted_list = BubbleSort(list)\n",
        "print(BinarySearch(list,12))\n",
        "print(BinarySearch(list,91))"
      ]
    },
    {
      "cell_type": "markdown",
      "metadata": {
        "id": "xb8mAXzPL9gm"
      },
      "source": [
        "Latihan!\n",
        "Cari \"a\" dari deret huruf di bawah ini menggunakan metode searching binary search!\n",
        "[y,u,i,w,o,a,q,u,j,p]"
      ]
    },
    {
      "cell_type": "code",
      "execution_count": 134,
      "metadata": {
        "id": "0p5yoNtnMJtv"
      },
      "outputs": [],
      "source": [
        "def binary(urut,item):\n",
        "  pertama = 0\n",
        "  akhir = len(urut)-1\n",
        "  found = False\n",
        "\n",
        "  while pertama <= akhir and not found:\n",
        "    mid = (pertama+akhir)//2\n",
        "    if urut[mid] == item:\n",
        "      found = True\n",
        "    else:\n",
        "      if item < urut[mid]:\n",
        "        akhir =mid -1\n",
        "      else:\n",
        "        pertama = mid +1\n",
        "  return found"
      ]
    },
    {
      "cell_type": "code",
      "execution_count": 135,
      "metadata": {
        "colab": {
          "base_uri": "https://localhost:8080/"
        },
        "id": "6QDNHMdiMthj",
        "outputId": "b8cb4808-faab-47d9-e1f4-e5cddd61ceaf"
      },
      "outputs": [
        {
          "output_type": "stream",
          "name": "stdout",
          "text": [
            "True\n"
          ]
        }
      ],
      "source": [
        "urut = [\"y\",\"u\",\"i\",\"w\",\"o\",\"a\",\"q\",\"u\",\"j\",\"p\"]\n",
        "sort_urut = BubbleSort(urut)\n",
        "print(BinarySearch(urut,\"a\"))"
      ]
    },
    {
      "cell_type": "markdown",
      "metadata": {
        "id": "uLa-4bkbODRU"
      },
      "source": [
        "Catatan"
      ]
    },
    {
      "cell_type": "code",
      "execution_count": 136,
      "metadata": {
        "id": "JJc-RWCTOE9p"
      },
      "outputs": [],
      "source": [
        "def IntPolsearch(list,x):\n",
        "  idx0 = 0\n",
        "  idxn = (len(list)-1)\n",
        "  found = False\n",
        "  while idx0 <= idxn and x >= list[idx0] and x <= list[idxn]:\n",
        "\n",
        "# find the mid point\n",
        "    mid = idx0 + int(((float(idxn - idx0)/(list[idxn]-list[idx0]))*(x - list[idx0])))\n",
        "\n",
        "# Compare the value at mid point with search value\n",
        "    if list[mid] == x:\n",
        "      found = True\n",
        "      return found\n",
        "    \n",
        "    if list[mid]<x:\n",
        "      idx0 = mid+1\n",
        "  \n",
        "  return found"
      ]
    },
    {
      "cell_type": "code",
      "execution_count": 137,
      "metadata": {
        "colab": {
          "base_uri": "https://localhost:8080/"
        },
        "id": "41K9ImGyPnOo",
        "outputId": "1a01aa1d-0eaf-4747-add6-9171f4d33f5a"
      },
      "outputs": [
        {
          "output_type": "stream",
          "name": "stdout",
          "text": [
            "True\n",
            "False\n"
          ]
        }
      ],
      "source": [
        "list = [12,33,11,99,22,55,90]\n",
        "sorted_list = BubbleSort(list)\n",
        "print(IntPolsearch(list,12))\n",
        "print(IntPolsearch(list,91))"
      ]
    },
    {
      "cell_type": "markdown",
      "metadata": {
        "id": "GpdMqF3iP-w_"
      },
      "source": [
        "Latihan!\n",
        "Cari \"u\" dari deret huruf di bawah ini menggunakan metode searching interpolation search!\n",
        "[y,u,i,w,o,a,q,u,j,p]"
      ]
    },
    {
      "cell_type": "code",
      "source": [
        "def cari(arr, K):\n",
        "  kecil = 0 \n",
        "  besar = len(arr) - 1\n",
        "\n",
        "  while kecil <= besar and K >= arr[kecil] and K <= arr[besar]:\n",
        "    probe = kecil + ((K - arr[kecil]) * (besar - kecil)) // (arr[besar] - arr[kecil])\n",
        "    if arr[probe] == K:\n",
        "      return True\n",
        "    elif probe < K:\n",
        "      kecil = probe + 1\n",
        "    elif probe > K:\n",
        "      besar = probe - 1\n",
        "  return False\n",
        " \n",
        " "
      ],
      "metadata": {
        "id": "5kf-ArgUlX1q"
      },
      "execution_count": 194,
      "outputs": []
    },
    {
      "cell_type": "code",
      "source": [
        "def inter(arr, K):\n",
        "  arr.sort()\n",
        "  sorted_arr = arr\n",
        "  return cari([ord(ch) for ch in sorted_arr], ord(K))"
      ],
      "metadata": {
        "id": "YlEOaYPynhT5"
      },
      "execution_count": 195,
      "outputs": []
    },
    {
      "cell_type": "code",
      "source": [
        "a = [\"y\",\"u\",\"i\",\"w\",\"o\",\"a\",\"q\",\"u\",\"j\",\"p\"]\n",
        "#print([ord(ch) for ch in a])\n",
        "inter(a, \"u\")"
      ],
      "metadata": {
        "colab": {
          "base_uri": "https://localhost:8080/"
        },
        "id": "8l1aEuGKmexl",
        "outputId": "7293d483-b1c9-40cb-e0cc-33479bf908fd"
      },
      "execution_count": 197,
      "outputs": [
        {
          "output_type": "execute_result",
          "data": {
            "text/plain": [
              "True"
            ]
          },
          "metadata": {},
          "execution_count": 197
        }
      ]
    }
  ],
  "metadata": {
    "colab": {
      "provenance": [],
      "collapsed_sections": [],
      "authorship_tag": "ABX9TyOouFsgC6uR+l1250GLsDTD",
      "include_colab_link": true
    },
    "kernelspec": {
      "display_name": "Python 3",
      "name": "python3"
    },
    "language_info": {
      "name": "python"
    }
  },
  "nbformat": 4,
  "nbformat_minor": 0
}