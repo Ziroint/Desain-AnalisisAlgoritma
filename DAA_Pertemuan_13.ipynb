{
  "nbformat": 4,
  "nbformat_minor": 0,
  "metadata": {
    "colab": {
      "provenance": [],
      "authorship_tag": "ABX9TyNGhMekV9+KfdMWpfFklSdb",
      "include_colab_link": true
    },
    "kernelspec": {
      "name": "python3",
      "display_name": "Python 3"
    },
    "language_info": {
      "name": "python"
    }
  },
  "cells": [
    {
      "cell_type": "markdown",
      "metadata": {
        "id": "view-in-github",
        "colab_type": "text"
      },
      "source": [
        "<a href=\"https://colab.research.google.com/github/Ziroint/Desain-AnalisisAlgoritma/blob/main/DAA_Pertemuan_13.ipynb\" target=\"_parent\"><img src=\"https://colab.research.google.com/assets/colab-badge.svg\" alt=\"Open In Colab\"/></a>"
      ]
    },
    {
      "cell_type": "markdown",
      "source": [
        "Algoritma Breadth-first Search (bfs)"
      ],
      "metadata": {
        "id": "HLqmA4Qhxyf4"
      }
    },
    {
      "cell_type": "code",
      "execution_count": 10,
      "metadata": {
        "id": "q5FZRSPku46H"
      },
      "outputs": [],
      "source": [
        "def bfs(graph, start):\n",
        "  visited = []\n",
        "  queue = [start]\n",
        "\n",
        "  while queue:\n",
        "    node = queue.pop(0)\n",
        "    if node not in visited:\n",
        "      visited.append(node)\n",
        "      neighbours = graph[node]\n",
        "      for neighbour in neighbours:\n",
        "        queue.append(neighbour)\n",
        "  return visited"
      ]
    },
    {
      "cell_type": "code",
      "source": [
        "graph={'Amin':{'Wasim','Nick','Mike'},\n",
        "       'Wasim':{'Imran','Amin'},\n",
        "       'Imran':{'Wasim','Faras'},\n",
        "       'Faras':{'Imran'},\n",
        "       'Mike':{'Amin'},\n",
        "       'Nick':{'Amin'}}\n"
      ],
      "metadata": {
        "id": "GjLRXPVNvS4X"
      },
      "execution_count": 11,
      "outputs": []
    },
    {
      "cell_type": "code",
      "source": [
        "bfs(graph,'Amin')"
      ],
      "metadata": {
        "colab": {
          "base_uri": "https://localhost:8080/"
        },
        "id": "C8Uh3mHywC0E",
        "outputId": "41e357cd-7141-4fb7-b563-2428fe12de03"
      },
      "execution_count": 12,
      "outputs": [
        {
          "output_type": "execute_result",
          "data": {
            "text/plain": [
              "['Amin', 'Wasim', 'Mike', 'Nick', 'Imran', 'Faras']"
            ]
          },
          "metadata": {},
          "execution_count": 12
        }
      ]
    },
    {
      "cell_type": "code",
      "source": [
        "bfs(graph,'Wasim')"
      ],
      "metadata": {
        "colab": {
          "base_uri": "https://localhost:8080/"
        },
        "id": "21WA5Sl9wYoE",
        "outputId": "40ef4e44-657d-4b96-cbe9-c6d809736c63"
      },
      "execution_count": 13,
      "outputs": [
        {
          "output_type": "execute_result",
          "data": {
            "text/plain": [
              "['Wasim', 'Imran', 'Amin', 'Faras', 'Mike', 'Nick']"
            ]
          },
          "metadata": {},
          "execution_count": 13
        }
      ]
    },
    {
      "cell_type": "code",
      "source": [
        "bfs(graph,'Nick')"
      ],
      "metadata": {
        "colab": {
          "base_uri": "https://localhost:8080/"
        },
        "id": "lVmirun0w_A0",
        "outputId": "ee764d76-d00d-47e0-d5ad-07ae9ff8acad"
      },
      "execution_count": 15,
      "outputs": [
        {
          "output_type": "execute_result",
          "data": {
            "text/plain": [
              "['Nick', 'Amin', 'Wasim', 'Mike', 'Imran', 'Faras']"
            ]
          },
          "metadata": {},
          "execution_count": 15
        }
      ]
    },
    {
      "cell_type": "code",
      "source": [
        "bfs(graph,'Faras')"
      ],
      "metadata": {
        "colab": {
          "base_uri": "https://localhost:8080/"
        },
        "id": "xHk451aXwndN",
        "outputId": "26ade4cb-4dc9-460a-aa21-f5961f6f0ff0"
      },
      "execution_count": 14,
      "outputs": [
        {
          "output_type": "execute_result",
          "data": {
            "text/plain": [
              "['Faras', 'Imran', 'Wasim', 'Amin', 'Mike', 'Nick']"
            ]
          },
          "metadata": {},
          "execution_count": 14
        }
      ]
    },
    {
      "cell_type": "code",
      "source": [
        "graph2 = {'Rektor' : {'Warek 1', 'Warek 2'},\n",
        "          'Warek 1' : {'Rektor'},\n",
        "          'Warek 2' : {'Rektor', 'Kaprodi 1', 'Kaprodi 2', 'Kaprodi 3'},\n",
        "          'Kaprodi 1' : {'Warek 2', 'Dosen A', 'Dosen B', 'Dosen C'},\n",
        "          'Kaprodi 2' : {'Warek 2', 'Dosen D', 'Dosen E'},\n",
        "          'Kaprodi 3' : {'Warek 2', 'Dosen F', 'Dosen G'},\n",
        "          'Dosen A' : {'Kaprodi 1'},\n",
        "          'Dosen B' : {'Kaprodi 1'},\n",
        "          'Dosen C' : {'Kaprodi 1'},\n",
        "          'Dosen D' : {'Kaprodi 2'},\n",
        "          'Dosen E' : {'Kaprodi 2'},\n",
        "          'Dosen F' : {'Kaprodi 3'},\n",
        "          'Dosen G' : {'Kaprodi 3'},\n",
        "        }"
      ],
      "metadata": {
        "id": "SESip-oCwqZ9"
      },
      "execution_count": 19,
      "outputs": []
    },
    {
      "cell_type": "code",
      "source": [
        "bfs(graph2,'Warek 1')"
      ],
      "metadata": {
        "colab": {
          "base_uri": "https://localhost:8080/"
        },
        "id": "3xgl6xJPxUYN",
        "outputId": "2f258d0a-be13-494b-9ad3-ccb67a129627"
      },
      "execution_count": 21,
      "outputs": [
        {
          "output_type": "execute_result",
          "data": {
            "text/plain": [
              "['Warek 1',\n",
              " 'Rektor',\n",
              " 'Warek 2',\n",
              " 'Kaprodi 1',\n",
              " 'Kaprodi 3',\n",
              " 'Kaprodi 2',\n",
              " 'Dosen B',\n",
              " 'Dosen A',\n",
              " 'Dosen C',\n",
              " 'Dosen G',\n",
              " 'Dosen F',\n",
              " 'Dosen D',\n",
              " 'Dosen E']"
            ]
          },
          "metadata": {},
          "execution_count": 21
        }
      ]
    },
    {
      "cell_type": "code",
      "source": [
        "bfs(graph2,'Dosen C')"
      ],
      "metadata": {
        "colab": {
          "base_uri": "https://localhost:8080/"
        },
        "id": "6sh91UXexajS",
        "outputId": "0b991189-39ba-4855-ba05-f8227443b984"
      },
      "execution_count": 23,
      "outputs": [
        {
          "output_type": "execute_result",
          "data": {
            "text/plain": [
              "['Dosen C',\n",
              " 'Kaprodi 1',\n",
              " 'Dosen B',\n",
              " 'Dosen A',\n",
              " 'Warek 2',\n",
              " 'Kaprodi 3',\n",
              " 'Rektor',\n",
              " 'Kaprodi 2',\n",
              " 'Dosen G',\n",
              " 'Dosen F',\n",
              " 'Warek 1',\n",
              " 'Dosen D',\n",
              " 'Dosen E']"
            ]
          },
          "metadata": {},
          "execution_count": 23
        }
      ]
    },
    {
      "cell_type": "code",
      "source": [
        "bfs(graph2,'Rektor')"
      ],
      "metadata": {
        "colab": {
          "base_uri": "https://localhost:8080/"
        },
        "id": "ij7aszDfxm2B",
        "outputId": "f2fa177d-89ab-4996-fae2-d74186690deb"
      },
      "execution_count": 24,
      "outputs": [
        {
          "output_type": "execute_result",
          "data": {
            "text/plain": [
              "['Rektor',\n",
              " 'Warek 2',\n",
              " 'Warek 1',\n",
              " 'Kaprodi 1',\n",
              " 'Kaprodi 3',\n",
              " 'Kaprodi 2',\n",
              " 'Dosen B',\n",
              " 'Dosen A',\n",
              " 'Dosen C',\n",
              " 'Dosen G',\n",
              " 'Dosen F',\n",
              " 'Dosen D',\n",
              " 'Dosen E']"
            ]
          },
          "metadata": {},
          "execution_count": 24
        }
      ]
    },
    {
      "cell_type": "markdown",
      "source": [
        "Algoritma Depth-first Search (dfs)"
      ],
      "metadata": {
        "id": "TrR8WF7-x32v"
      }
    },
    {
      "cell_type": "code",
      "source": [
        "def dfs(graph, start, visited=None):\n",
        "  if visited is None:\n",
        "    visited = set()\n",
        "  visited.add(start)\n",
        "  print(start)\n",
        "  for next in graph[start] - visited:\n",
        "    dfs(graph, next, visited)\n",
        "  return visited"
      ],
      "metadata": {
        "id": "TdlioRUJxwT0"
      },
      "execution_count": 25,
      "outputs": []
    },
    {
      "cell_type": "code",
      "source": [
        "graph_dfs ={'Amin' : {'Wasim', 'Nick', 'Mike'},\n",
        "            'Wasim': {'Imran', 'Amin'},\n",
        "            'Imran': {'Wasim', 'Faras'},\n",
        "            'Faras': {'Imran'},\n",
        "            'Nick' : {'Amin'},\n",
        "            'Mike' : {'Amin'}}"
      ],
      "metadata": {
        "id": "nq7zdOAOyMUW"
      },
      "execution_count": 26,
      "outputs": []
    },
    {
      "cell_type": "code",
      "source": [
        "dfs(graph_dfs,'Amin')"
      ],
      "metadata": {
        "colab": {
          "base_uri": "https://localhost:8080/"
        },
        "id": "SyavcA4vyKRy",
        "outputId": "a0b67f67-fa03-4e7e-f976-04a84e60b8e0"
      },
      "execution_count": 27,
      "outputs": [
        {
          "output_type": "stream",
          "name": "stdout",
          "text": [
            "Amin\n",
            "Wasim\n",
            "Imran\n",
            "Faras\n",
            "Mike\n",
            "Nick\n"
          ]
        },
        {
          "output_type": "execute_result",
          "data": {
            "text/plain": [
              "{'Amin', 'Faras', 'Imran', 'Mike', 'Nick', 'Wasim'}"
            ]
          },
          "metadata": {},
          "execution_count": 27
        }
      ]
    },
    {
      "cell_type": "code",
      "source": [
        "dfs(graph_dfs,'Wasim')"
      ],
      "metadata": {
        "colab": {
          "base_uri": "https://localhost:8080/"
        },
        "id": "8W3E9CbtyddB",
        "outputId": "f1f50005-bd09-4a71-d3e1-3aa75b690fe5"
      },
      "execution_count": 28,
      "outputs": [
        {
          "output_type": "stream",
          "name": "stdout",
          "text": [
            "Wasim\n",
            "Imran\n",
            "Faras\n",
            "Amin\n",
            "Mike\n",
            "Nick\n"
          ]
        },
        {
          "output_type": "execute_result",
          "data": {
            "text/plain": [
              "{'Amin', 'Faras', 'Imran', 'Mike', 'Nick', 'Wasim'}"
            ]
          },
          "metadata": {},
          "execution_count": 28
        }
      ]
    },
    {
      "cell_type": "code",
      "source": [
        "dfs(graph_dfs,'Faras')"
      ],
      "metadata": {
        "colab": {
          "base_uri": "https://localhost:8080/"
        },
        "id": "FQc99M7JyhNg",
        "outputId": "6d8bbd52-aa21-475b-b361-4e56c2c2f51d"
      },
      "execution_count": 29,
      "outputs": [
        {
          "output_type": "stream",
          "name": "stdout",
          "text": [
            "Faras\n",
            "Imran\n",
            "Wasim\n",
            "Amin\n",
            "Mike\n",
            "Nick\n"
          ]
        },
        {
          "output_type": "execute_result",
          "data": {
            "text/plain": [
              "{'Amin', 'Faras', 'Imran', 'Mike', 'Nick', 'Wasim'}"
            ]
          },
          "metadata": {},
          "execution_count": 29
        }
      ]
    },
    {
      "cell_type": "code",
      "source": [
        "dfs(graph_dfs,'Nick')"
      ],
      "metadata": {
        "colab": {
          "base_uri": "https://localhost:8080/"
        },
        "id": "RVJqCKZZykZ4",
        "outputId": "9fa8173a-ff71-45c0-f245-470881fb5b69"
      },
      "execution_count": 30,
      "outputs": [
        {
          "output_type": "stream",
          "name": "stdout",
          "text": [
            "Nick\n",
            "Amin\n",
            "Wasim\n",
            "Imran\n",
            "Faras\n",
            "Mike\n"
          ]
        },
        {
          "output_type": "execute_result",
          "data": {
            "text/plain": [
              "{'Amin', 'Faras', 'Imran', 'Mike', 'Nick', 'Wasim'}"
            ]
          },
          "metadata": {},
          "execution_count": 30
        }
      ]
    },
    {
      "cell_type": "code",
      "source": [
        "graph2_dfs ={'Rektor' : {'Warek 1', 'Warek 2'},\n",
        "            'Warek 1' : {'Rektor'},\n",
        "            'Warek 2' : {'Rektor', 'Kaprodi 1', 'Kaprodi 2', 'Kaprodi 3'},\n",
        "            'Kaprodi 1' : {'Warek 2', 'Dosen A', 'Dosen B', 'Dosen C'},\n",
        "            'Kaprodi 2' : {'Warek 2', 'Dosen D', 'Dosen E'},\n",
        "            'Kaprodi 3' : {'Warek 2', 'Dosen F', 'Dosen G'},\n",
        "            'Dosen A' : {'Kaprodi 1'},\n",
        "            'Dosen B' : {'Kaprodi 1'},\n",
        "            'Dosen C' : {'Kaprodi 1'},\n",
        "            'Dosen D' : {'Kaprodi 2'},\n",
        "            'Dosen E' : {'Kaprodi 2'},\n",
        "            'Dosen F' : {'Kaprodi 3'},\n",
        "            'Dosen G' : {'Kaprodi 3'}}"
      ],
      "metadata": {
        "id": "SC1LYlpaymTk"
      },
      "execution_count": 31,
      "outputs": []
    },
    {
      "cell_type": "code",
      "source": [
        "dfs(graph2_dfs,'Rektor')"
      ],
      "metadata": {
        "colab": {
          "base_uri": "https://localhost:8080/"
        },
        "id": "D5MfGXa9yxsU",
        "outputId": "34d69be8-1a26-4781-d605-23374bad7ca6"
      },
      "execution_count": 32,
      "outputs": [
        {
          "output_type": "stream",
          "name": "stdout",
          "text": [
            "Rektor\n",
            "Warek 2\n",
            "Kaprodi 1\n",
            "Dosen B\n",
            "Dosen A\n",
            "Dosen C\n",
            "Kaprodi 3\n",
            "Dosen G\n",
            "Dosen F\n",
            "Kaprodi 2\n",
            "Dosen D\n",
            "Dosen E\n",
            "Warek 1\n"
          ]
        },
        {
          "output_type": "execute_result",
          "data": {
            "text/plain": [
              "{'Dosen A',\n",
              " 'Dosen B',\n",
              " 'Dosen C',\n",
              " 'Dosen D',\n",
              " 'Dosen E',\n",
              " 'Dosen F',\n",
              " 'Dosen G',\n",
              " 'Kaprodi 1',\n",
              " 'Kaprodi 2',\n",
              " 'Kaprodi 3',\n",
              " 'Rektor',\n",
              " 'Warek 1',\n",
              " 'Warek 2'}"
            ]
          },
          "metadata": {},
          "execution_count": 32
        }
      ]
    },
    {
      "cell_type": "code",
      "source": [
        "dfs(graph2_dfs,'Warek 1')"
      ],
      "metadata": {
        "colab": {
          "base_uri": "https://localhost:8080/"
        },
        "id": "WxJJdkFky1Om",
        "outputId": "5bed33fe-ac63-4c80-fe5e-94ad92a65963"
      },
      "execution_count": 33,
      "outputs": [
        {
          "output_type": "stream",
          "name": "stdout",
          "text": [
            "Warek 1\n",
            "Rektor\n",
            "Warek 2\n",
            "Kaprodi 1\n",
            "Dosen B\n",
            "Dosen A\n",
            "Dosen C\n",
            "Kaprodi 3\n",
            "Dosen G\n",
            "Dosen F\n",
            "Kaprodi 2\n",
            "Dosen D\n",
            "Dosen E\n"
          ]
        },
        {
          "output_type": "execute_result",
          "data": {
            "text/plain": [
              "{'Dosen A',\n",
              " 'Dosen B',\n",
              " 'Dosen C',\n",
              " 'Dosen D',\n",
              " 'Dosen E',\n",
              " 'Dosen F',\n",
              " 'Dosen G',\n",
              " 'Kaprodi 1',\n",
              " 'Kaprodi 2',\n",
              " 'Kaprodi 3',\n",
              " 'Rektor',\n",
              " 'Warek 1',\n",
              " 'Warek 2'}"
            ]
          },
          "metadata": {},
          "execution_count": 33
        }
      ]
    },
    {
      "cell_type": "code",
      "source": [
        "dfs(graph2_dfs,'Kaprodi 1')"
      ],
      "metadata": {
        "colab": {
          "base_uri": "https://localhost:8080/"
        },
        "id": "Fywks9WEy5M1",
        "outputId": "b771e9be-2575-45ad-abc0-96e7eec1d1bf"
      },
      "execution_count": 34,
      "outputs": [
        {
          "output_type": "stream",
          "name": "stdout",
          "text": [
            "Kaprodi 1\n",
            "Dosen B\n",
            "Dosen A\n",
            "Warek 2\n",
            "Kaprodi 2\n",
            "Dosen D\n",
            "Dosen E\n",
            "Kaprodi 3\n",
            "Dosen G\n",
            "Dosen F\n",
            "Rektor\n",
            "Warek 1\n",
            "Dosen C\n"
          ]
        },
        {
          "output_type": "execute_result",
          "data": {
            "text/plain": [
              "{'Dosen A',\n",
              " 'Dosen B',\n",
              " 'Dosen C',\n",
              " 'Dosen D',\n",
              " 'Dosen E',\n",
              " 'Dosen F',\n",
              " 'Dosen G',\n",
              " 'Kaprodi 1',\n",
              " 'Kaprodi 2',\n",
              " 'Kaprodi 3',\n",
              " 'Rektor',\n",
              " 'Warek 1',\n",
              " 'Warek 2'}"
            ]
          },
          "metadata": {},
          "execution_count": 34
        }
      ]
    }
  ]
}